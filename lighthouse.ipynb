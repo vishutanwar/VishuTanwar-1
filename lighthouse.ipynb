{
  "nbformat": 4,
  "nbformat_minor": 0,
  "metadata": {
    "colab": {
      "provenance": [],
      "authorship_tag": "ABX9TyP4naqEZ7su7hGJFvecTbd/",
      "include_colab_link": true
    },
    "kernelspec": {
      "name": "python3",
      "display_name": "Python 3"
    },
    "language_info": {
      "name": "python"
    }
  },
  "cells": [
    {
      "cell_type": "markdown",
      "metadata": {
        "id": "view-in-github",
        "colab_type": "text"
      },
      "source": [
        "<a href=\"https://colab.research.google.com/github/vishutanwar/VishuTanwar-1/blob/master/lighthouse.ipynb\" target=\"_parent\"><img src=\"https://colab.research.google.com/assets/colab-badge.svg\" alt=\"Open In Colab\"/></a>"
      ]
    },
    {
      "cell_type": "code",
      "execution_count": null,
      "metadata": {
        "colab": {
          "base_uri": "https://localhost:8080/"
        },
        "id": "NE-h3DoR5dlT",
        "outputId": "ba38f117-94d6-4b8f-b201-da58063eed76"
      },
      "outputs": [
        {
          "output_type": "stream",
          "name": "stdout",
          "text": [
            "Cloning into 'VishuTanwar'...\n",
            "remote: Enumerating objects: 80, done.\u001b[K\n",
            "remote: Total 80 (delta 0), reused 0 (delta 0), pack-reused 80\u001b[K\n",
            "Unpacking objects: 100% (80/80), done.\n"
          ]
        }
      ],
      "source": [
        "!git clone https://github.com/suryanramamurthy/VishuTanwar"
      ]
    },
    {
      "cell_type": "code",
      "source": [
        "%cd ./data\n",
        "%cd ..\n",
        "%cd content\n",
        "%cd ./data"
      ],
      "metadata": {
        "colab": {
          "base_uri": "https://localhost:8080/"
        },
        "id": "YzI-oljB5uCV",
        "outputId": "7c5d676e-49dd-4d51-bdb2-c4962b0c280a"
      },
      "execution_count": null,
      "outputs": [
        {
          "output_type": "stream",
          "name": "stdout",
          "text": [
            "[Errno 2] No such file or directory: './data'\n",
            "/\n",
            "/\n",
            "/content\n",
            "/content/data\n"
          ]
        }
      ]
    },
    {
      "cell_type": "code",
      "source": [
        "ls"
      ],
      "metadata": {
        "colab": {
          "base_uri": "https://localhost:8080/"
        },
        "id": "LFLY98eP5xxw",
        "outputId": "bd4a6034-e71b-4ffc-c96d-f9872b9e4ed0"
      },
      "execution_count": null,
      "outputs": [
        {
          "output_type": "stream",
          "name": "stdout",
          "text": [
            "\u001b[0m\u001b[01;34marchive\u001b[0m/  \u001b[01;34marchive2\u001b[0m/\n"
          ]
        }
      ]
    },
    {
      "cell_type": "code",
      "source": [
        "%cd .."
      ],
      "metadata": {
        "colab": {
          "base_uri": "https://localhost:8080/"
        },
        "id": "77ruQyjC3dqB",
        "outputId": "e15e9227-8905-4af8-be12-1d6a555e197e"
      },
      "execution_count": null,
      "outputs": [
        {
          "output_type": "stream",
          "name": "stdout",
          "text": [
            "/content\n"
          ]
        }
      ]
    },
    {
      "cell_type": "code",
      "source": [
        "%cd ./data/archive2/"
      ],
      "metadata": {
        "colab": {
          "base_uri": "https://localhost:8080/"
        },
        "id": "wwivwcRW6IJQ",
        "outputId": "06371abc-5171-4509-cf88-c83645d12a35"
      },
      "execution_count": null,
      "outputs": [
        {
          "output_type": "stream",
          "name": "stdout",
          "text": [
            "/content/data/archive2\n"
          ]
        }
      ]
    },
    {
      "cell_type": "code",
      "source": [
        "ls"
      ],
      "metadata": {
        "colab": {
          "base_uri": "https://localhost:8080/"
        },
        "id": "88Qd8xqT6SC7",
        "outputId": "833b934b-e0c0-4c08-9515-63b50009b71f"
      },
      "execution_count": null,
      "outputs": [
        {
          "output_type": "stream",
          "name": "stdout",
          "text": [
            "2016Q1.csv.gz  2016Q3.csv.gz  2017Q1.csv.gz  2017Q3.csv.gz\n",
            "2016Q2.csv.gz  2016Q4.csv.gz  2017Q2.csv.gz  2017Q4.csv.gz\n"
          ]
        }
      ]
    },
    {
      "cell_type": "code",
      "source": [
        "%cd content"
      ],
      "metadata": {
        "colab": {
          "base_uri": "https://localhost:8080/"
        },
        "id": "w1fCZ3kn6R3f",
        "outputId": "631456c2-fa42-4125-aca4-3af9fdcb4d34"
      },
      "execution_count": null,
      "outputs": [
        {
          "output_type": "stream",
          "name": "stdout",
          "text": [
            "/content\n"
          ]
        }
      ]
    },
    {
      "cell_type": "code",
      "source": [
        "%cd .."
      ],
      "metadata": {
        "colab": {
          "base_uri": "https://localhost:8080/"
        },
        "id": "JE0ICU2y6vb3",
        "outputId": "06d157f8-bad5-4bcd-e3fc-1ba70c679355"
      },
      "execution_count": null,
      "outputs": [
        {
          "output_type": "stream",
          "name": "stdout",
          "text": [
            "/\n"
          ]
        }
      ]
    },
    {
      "cell_type": "code",
      "source": [
        "import os\n",
        "os.mkdir(\"./data/archive2\")"
      ],
      "metadata": {
        "colab": {
          "base_uri": "https://localhost:8080/",
          "height": 182
        },
        "id": "wAXeuTm90fzK",
        "outputId": "dbe8cf97-7c58-40e8-a26f-e48ea85ef8cb"
      },
      "execution_count": null,
      "outputs": [
        {
          "output_type": "error",
          "ename": "FileExistsError",
          "evalue": "ignored",
          "traceback": [
            "\u001b[0;31m---------------------------------------------------------------------------\u001b[0m",
            "\u001b[0;31mFileExistsError\u001b[0m                           Traceback (most recent call last)",
            "\u001b[0;32m<ipython-input-36-5e1bbd969c06>\u001b[0m in \u001b[0;36m<module>\u001b[0;34m\u001b[0m\n\u001b[1;32m      1\u001b[0m \u001b[0;32mimport\u001b[0m \u001b[0mos\u001b[0m\u001b[0;34m\u001b[0m\u001b[0;34m\u001b[0m\u001b[0m\n\u001b[0;32m----> 2\u001b[0;31m \u001b[0mos\u001b[0m\u001b[0;34m.\u001b[0m\u001b[0mmkdir\u001b[0m\u001b[0;34m(\u001b[0m\u001b[0;34m\"./data/archive2\"\u001b[0m\u001b[0;34m)\u001b[0m\u001b[0;34m\u001b[0m\u001b[0;34m\u001b[0m\u001b[0m\n\u001b[0m",
            "\u001b[0;31mFileExistsError\u001b[0m: [Errno 17] File exists: './data/archive2'"
          ]
        }
      ]
    },
    {
      "cell_type": "code",
      "source": [
        "ls "
      ],
      "metadata": {
        "colab": {
          "base_uri": "https://localhost:8080/"
        },
        "id": "KrLIQiv-57mm",
        "outputId": "f8396072-e942-4399-ea65-780a896e3722"
      },
      "execution_count": null,
      "outputs": [
        {
          "output_type": "stream",
          "name": "stdout",
          "text": [
            "2016Q1.csv.gz  2016Q3.csv.gz  2017Q1.csv.gz  2017Q3.csv.gz\n",
            "2016Q2.csv.gz  2016Q4.csv.gz  2017Q2.csv.gz  2017Q4.csv.gz\n"
          ]
        }
      ]
    },
    {
      "cell_type": "code",
      "source": [
        "\n",
        "path = \"./data/archive2\"\n",
        "lst = os.listdir(path)"
      ],
      "metadata": {
        "id": "RYUlVaC750x6"
      },
      "execution_count": null,
      "outputs": []
    },
    {
      "cell_type": "code",
      "source": [
        "lst"
      ],
      "metadata": {
        "colab": {
          "base_uri": "https://localhost:8080/"
        },
        "id": "mTzHViic53_0",
        "outputId": "e52986f4-4fe2-401b-d2fa-b33ad814f531"
      },
      "execution_count": null,
      "outputs": [
        {
          "output_type": "execute_result",
          "data": {
            "text/plain": [
              "['2016Q4.csv.gz',\n",
              " '2017Q1.csv.gz',\n",
              " '2016Q3.csv.gz',\n",
              " '2016Q2.csv.gz',\n",
              " '2016Q1.csv.gz',\n",
              " '2017Q2.csv.gz',\n",
              " '2017Q4.csv.gz',\n",
              " '2017Q3.csv.gz']"
            ]
          },
          "metadata": {},
          "execution_count": 46
        }
      ]
    },
    {
      "cell_type": "code",
      "source": [
        "os.mkdir(\"./data/unziped\")"
      ],
      "metadata": {
        "id": "GwJDmzDB563r"
      },
      "execution_count": null,
      "outputs": []
    },
    {
      "cell_type": "code",
      "source": [
        "import gzip\n",
        "def changer(my_filename):\n",
        "  my_filename = \"./data/archive2/\"+ my_filename\n",
        "  with gzip.open(my_filename, 'rt', newline = \"\") as gz_file:\n",
        "    data = gz_file.read()\n",
        "    with open(my_filename[:-3], 'wt') as out_file:\n",
        "      out_file.write(data)"
      ],
      "metadata": {
        "id": "hckHTvl459eT"
      },
      "execution_count": null,
      "outputs": []
    },
    {
      "cell_type": "code",
      "source": [
        "for i in lst:\n",
        "  changer(i)"
      ],
      "metadata": {
        "id": "Wu1LMAsS6A3u"
      },
      "execution_count": null,
      "outputs": []
    },
    {
      "cell_type": "code",
      "source": [
        "import shutil\n",
        "for j in lst:\n",
        "  filename = \"./data/archive2/\" + j[:-3]\n",
        "  shutil.move(filename, \"./data/unziped/\")"
      ],
      "metadata": {
        "id": "MM0gOGnF6EdC"
      },
      "execution_count": null,
      "outputs": []
    },
    {
      "cell_type": "code",
      "source": [
        "import pandas as pd\n",
        "import glob"
      ],
      "metadata": {
        "id": "f1-kfQ5w7lxj"
      },
      "execution_count": null,
      "outputs": []
    },
    {
      "cell_type": "code",
      "source": [
        "df= pd.concat([pd.read_csv(csv_file, header=0) for csv_file in glob.glob(\n",
        "        os.path.join(\"./data/unziped/\", \"201*.csv\"))], axis=0, ignore_index=True)"
      ],
      "metadata": {
        "id": "fSmuhWv97kGE"
      },
      "execution_count": null,
      "outputs": []
    },
    {
      "cell_type": "code",
      "source": [
        "df.shape"
      ],
      "metadata": {
        "colab": {
          "base_uri": "https://localhost:8080/"
        },
        "id": "kcVGkNv58DIx",
        "outputId": "eab569dc-3a1b-45b2-f51e-6b197fc166de"
      },
      "execution_count": null,
      "outputs": [
        {
          "output_type": "execute_result",
          "data": {
            "text/plain": [
              "(438991, 55)"
            ]
          },
          "metadata": {},
          "execution_count": 61
        }
      ]
    },
    {
      "cell_type": "code",
      "source": [
        "df.head()"
      ],
      "metadata": {
        "colab": {
          "base_uri": "https://localhost:8080/",
          "height": 404
        },
        "id": "ZYb88o7V8RP3",
        "outputId": "67e1b0a1-8c0c-414d-f7af-b25162638b49"
      },
      "execution_count": null,
      "outputs": [
        {
          "output_type": "execute_result",
          "data": {
            "text/plain": [
              "          id  funded_amnt        term int_rate  installment  \\\n",
              "0  120047387         1200   36 months   12.62%        40.22   \n",
              "1  115382731        27825   60 months   14.08%       648.60   \n",
              "2  114145828         6000   36 months   14.08%       205.30   \n",
              "3  113130769        20000   60 months   15.05%       476.33   \n",
              "4  118283716         5000   36 months    5.32%       150.58   \n",
              "\n",
              "                emp_title emp_length home_ownership  annual_inc loan_status  \\\n",
              "0      Sales / Management  10+ years       MORTGAGE     60000.0  Fully Paid   \n",
              "1                 Cashier   < 1 year       MORTGAGE     13000.0     Current   \n",
              "2                     NaN        NaN       MORTGAGE     18000.0     Current   \n",
              "3  cloud support engineer    2 years           RENT    120000.0     Current   \n",
              "4                    Chef   < 1 year            OWN     30000.0     Current   \n",
              "\n",
              "   ... num_tl_op_past_12m pct_tl_nvr_dlq percent_bc_gt_75  \\\n",
              "0  ...                  1           95.0            100.0   \n",
              "1  ...                  0          100.0             75.0   \n",
              "2  ...                  2          100.0             50.0   \n",
              "3  ...                  1          100.0             66.7   \n",
              "4  ...                  0          100.0              0.0   \n",
              "\n",
              "   pub_rec_bankruptcies  total_bal_ex_mort total_bc_limit  revol_bal_joint  \\\n",
              "0                     0              48409           8500              NaN   \n",
              "1                     0              13750          17500          28681.0   \n",
              "2                     0               5344           6400              NaN   \n",
              "3                     0              85156          23100              NaN   \n",
              "4                     0               2266          26500              NaN   \n",
              "\n",
              "   sec_app_fico_range_high  sec_app_earliest_cr_line  sec_app_inq_last_6mths  \n",
              "0                      NaN                       NaN                     NaN  \n",
              "1                    739.0                    May-94                     0.0  \n",
              "2                      NaN                       NaN                     NaN  \n",
              "3                      NaN                       NaN                     NaN  \n",
              "4                      NaN                       NaN                     NaN  \n",
              "\n",
              "[5 rows x 55 columns]"
            ],
            "text/html": [
              "\n",
              "  <div id=\"df-4999d63f-cf5c-40d4-9cef-bf2e4af7344f\">\n",
              "    <div class=\"colab-df-container\">\n",
              "      <div>\n",
              "<style scoped>\n",
              "    .dataframe tbody tr th:only-of-type {\n",
              "        vertical-align: middle;\n",
              "    }\n",
              "\n",
              "    .dataframe tbody tr th {\n",
              "        vertical-align: top;\n",
              "    }\n",
              "\n",
              "    .dataframe thead th {\n",
              "        text-align: right;\n",
              "    }\n",
              "</style>\n",
              "<table border=\"1\" class=\"dataframe\">\n",
              "  <thead>\n",
              "    <tr style=\"text-align: right;\">\n",
              "      <th></th>\n",
              "      <th>id</th>\n",
              "      <th>funded_amnt</th>\n",
              "      <th>term</th>\n",
              "      <th>int_rate</th>\n",
              "      <th>installment</th>\n",
              "      <th>emp_title</th>\n",
              "      <th>emp_length</th>\n",
              "      <th>home_ownership</th>\n",
              "      <th>annual_inc</th>\n",
              "      <th>loan_status</th>\n",
              "      <th>...</th>\n",
              "      <th>num_tl_op_past_12m</th>\n",
              "      <th>pct_tl_nvr_dlq</th>\n",
              "      <th>percent_bc_gt_75</th>\n",
              "      <th>pub_rec_bankruptcies</th>\n",
              "      <th>total_bal_ex_mort</th>\n",
              "      <th>total_bc_limit</th>\n",
              "      <th>revol_bal_joint</th>\n",
              "      <th>sec_app_fico_range_high</th>\n",
              "      <th>sec_app_earliest_cr_line</th>\n",
              "      <th>sec_app_inq_last_6mths</th>\n",
              "    </tr>\n",
              "  </thead>\n",
              "  <tbody>\n",
              "    <tr>\n",
              "      <th>0</th>\n",
              "      <td>120047387</td>\n",
              "      <td>1200</td>\n",
              "      <td>36 months</td>\n",
              "      <td>12.62%</td>\n",
              "      <td>40.22</td>\n",
              "      <td>Sales / Management</td>\n",
              "      <td>10+ years</td>\n",
              "      <td>MORTGAGE</td>\n",
              "      <td>60000.0</td>\n",
              "      <td>Fully Paid</td>\n",
              "      <td>...</td>\n",
              "      <td>1</td>\n",
              "      <td>95.0</td>\n",
              "      <td>100.0</td>\n",
              "      <td>0</td>\n",
              "      <td>48409</td>\n",
              "      <td>8500</td>\n",
              "      <td>NaN</td>\n",
              "      <td>NaN</td>\n",
              "      <td>NaN</td>\n",
              "      <td>NaN</td>\n",
              "    </tr>\n",
              "    <tr>\n",
              "      <th>1</th>\n",
              "      <td>115382731</td>\n",
              "      <td>27825</td>\n",
              "      <td>60 months</td>\n",
              "      <td>14.08%</td>\n",
              "      <td>648.60</td>\n",
              "      <td>Cashier</td>\n",
              "      <td>&lt; 1 year</td>\n",
              "      <td>MORTGAGE</td>\n",
              "      <td>13000.0</td>\n",
              "      <td>Current</td>\n",
              "      <td>...</td>\n",
              "      <td>0</td>\n",
              "      <td>100.0</td>\n",
              "      <td>75.0</td>\n",
              "      <td>0</td>\n",
              "      <td>13750</td>\n",
              "      <td>17500</td>\n",
              "      <td>28681.0</td>\n",
              "      <td>739.0</td>\n",
              "      <td>May-94</td>\n",
              "      <td>0.0</td>\n",
              "    </tr>\n",
              "    <tr>\n",
              "      <th>2</th>\n",
              "      <td>114145828</td>\n",
              "      <td>6000</td>\n",
              "      <td>36 months</td>\n",
              "      <td>14.08%</td>\n",
              "      <td>205.30</td>\n",
              "      <td>NaN</td>\n",
              "      <td>NaN</td>\n",
              "      <td>MORTGAGE</td>\n",
              "      <td>18000.0</td>\n",
              "      <td>Current</td>\n",
              "      <td>...</td>\n",
              "      <td>2</td>\n",
              "      <td>100.0</td>\n",
              "      <td>50.0</td>\n",
              "      <td>0</td>\n",
              "      <td>5344</td>\n",
              "      <td>6400</td>\n",
              "      <td>NaN</td>\n",
              "      <td>NaN</td>\n",
              "      <td>NaN</td>\n",
              "      <td>NaN</td>\n",
              "    </tr>\n",
              "    <tr>\n",
              "      <th>3</th>\n",
              "      <td>113130769</td>\n",
              "      <td>20000</td>\n",
              "      <td>60 months</td>\n",
              "      <td>15.05%</td>\n",
              "      <td>476.33</td>\n",
              "      <td>cloud support engineer</td>\n",
              "      <td>2 years</td>\n",
              "      <td>RENT</td>\n",
              "      <td>120000.0</td>\n",
              "      <td>Current</td>\n",
              "      <td>...</td>\n",
              "      <td>1</td>\n",
              "      <td>100.0</td>\n",
              "      <td>66.7</td>\n",
              "      <td>0</td>\n",
              "      <td>85156</td>\n",
              "      <td>23100</td>\n",
              "      <td>NaN</td>\n",
              "      <td>NaN</td>\n",
              "      <td>NaN</td>\n",
              "      <td>NaN</td>\n",
              "    </tr>\n",
              "    <tr>\n",
              "      <th>4</th>\n",
              "      <td>118283716</td>\n",
              "      <td>5000</td>\n",
              "      <td>36 months</td>\n",
              "      <td>5.32%</td>\n",
              "      <td>150.58</td>\n",
              "      <td>Chef</td>\n",
              "      <td>&lt; 1 year</td>\n",
              "      <td>OWN</td>\n",
              "      <td>30000.0</td>\n",
              "      <td>Current</td>\n",
              "      <td>...</td>\n",
              "      <td>0</td>\n",
              "      <td>100.0</td>\n",
              "      <td>0.0</td>\n",
              "      <td>0</td>\n",
              "      <td>2266</td>\n",
              "      <td>26500</td>\n",
              "      <td>NaN</td>\n",
              "      <td>NaN</td>\n",
              "      <td>NaN</td>\n",
              "      <td>NaN</td>\n",
              "    </tr>\n",
              "  </tbody>\n",
              "</table>\n",
              "<p>5 rows × 55 columns</p>\n",
              "</div>\n",
              "      <button class=\"colab-df-convert\" onclick=\"convertToInteractive('df-4999d63f-cf5c-40d4-9cef-bf2e4af7344f')\"\n",
              "              title=\"Convert this dataframe to an interactive table.\"\n",
              "              style=\"display:none;\">\n",
              "        \n",
              "  <svg xmlns=\"http://www.w3.org/2000/svg\" height=\"24px\"viewBox=\"0 0 24 24\"\n",
              "       width=\"24px\">\n",
              "    <path d=\"M0 0h24v24H0V0z\" fill=\"none\"/>\n",
              "    <path d=\"M18.56 5.44l.94 2.06.94-2.06 2.06-.94-2.06-.94-.94-2.06-.94 2.06-2.06.94zm-11 1L8.5 8.5l.94-2.06 2.06-.94-2.06-.94L8.5 2.5l-.94 2.06-2.06.94zm10 10l.94 2.06.94-2.06 2.06-.94-2.06-.94-.94-2.06-.94 2.06-2.06.94z\"/><path d=\"M17.41 7.96l-1.37-1.37c-.4-.4-.92-.59-1.43-.59-.52 0-1.04.2-1.43.59L10.3 9.45l-7.72 7.72c-.78.78-.78 2.05 0 2.83L4 21.41c.39.39.9.59 1.41.59.51 0 1.02-.2 1.41-.59l7.78-7.78 2.81-2.81c.8-.78.8-2.07 0-2.86zM5.41 20L4 18.59l7.72-7.72 1.47 1.35L5.41 20z\"/>\n",
              "  </svg>\n",
              "      </button>\n",
              "      \n",
              "  <style>\n",
              "    .colab-df-container {\n",
              "      display:flex;\n",
              "      flex-wrap:wrap;\n",
              "      gap: 12px;\n",
              "    }\n",
              "\n",
              "    .colab-df-convert {\n",
              "      background-color: #E8F0FE;\n",
              "      border: none;\n",
              "      border-radius: 50%;\n",
              "      cursor: pointer;\n",
              "      display: none;\n",
              "      fill: #1967D2;\n",
              "      height: 32px;\n",
              "      padding: 0 0 0 0;\n",
              "      width: 32px;\n",
              "    }\n",
              "\n",
              "    .colab-df-convert:hover {\n",
              "      background-color: #E2EBFA;\n",
              "      box-shadow: 0px 1px 2px rgba(60, 64, 67, 0.3), 0px 1px 3px 1px rgba(60, 64, 67, 0.15);\n",
              "      fill: #174EA6;\n",
              "    }\n",
              "\n",
              "    [theme=dark] .colab-df-convert {\n",
              "      background-color: #3B4455;\n",
              "      fill: #D2E3FC;\n",
              "    }\n",
              "\n",
              "    [theme=dark] .colab-df-convert:hover {\n",
              "      background-color: #434B5C;\n",
              "      box-shadow: 0px 1px 3px 1px rgba(0, 0, 0, 0.15);\n",
              "      filter: drop-shadow(0px 1px 2px rgba(0, 0, 0, 0.3));\n",
              "      fill: #FFFFFF;\n",
              "    }\n",
              "  </style>\n",
              "\n",
              "      <script>\n",
              "        const buttonEl =\n",
              "          document.querySelector('#df-4999d63f-cf5c-40d4-9cef-bf2e4af7344f button.colab-df-convert');\n",
              "        buttonEl.style.display =\n",
              "          google.colab.kernel.accessAllowed ? 'block' : 'none';\n",
              "\n",
              "        async function convertToInteractive(key) {\n",
              "          const element = document.querySelector('#df-4999d63f-cf5c-40d4-9cef-bf2e4af7344f');\n",
              "          const dataTable =\n",
              "            await google.colab.kernel.invokeFunction('convertToInteractive',\n",
              "                                                     [key], {});\n",
              "          if (!dataTable) return;\n",
              "\n",
              "          const docLinkHtml = 'Like what you see? Visit the ' +\n",
              "            '<a target=\"_blank\" href=https://colab.research.google.com/notebooks/data_table.ipynb>data table notebook</a>'\n",
              "            + ' to learn more about interactive tables.';\n",
              "          element.innerHTML = '';\n",
              "          dataTable['output_type'] = 'display_data';\n",
              "          await google.colab.output.renderOutput(dataTable, element);\n",
              "          const docLink = document.createElement('div');\n",
              "          docLink.innerHTML = docLinkHtml;\n",
              "          element.appendChild(docLink);\n",
              "        }\n",
              "      </script>\n",
              "    </div>\n",
              "  </div>\n",
              "  "
            ]
          },
          "metadata": {},
          "execution_count": 62
        }
      ]
    },
    {
      "cell_type": "code",
      "source": [
        "df['loan_status'].value_counts()"
      ],
      "metadata": {
        "colab": {
          "base_uri": "https://localhost:8080/"
        },
        "id": "qdV3pj5C9BEn",
        "outputId": "4fa18167-734c-4ff7-fa00-cbc7c9d0609b"
      },
      "execution_count": null,
      "outputs": [
        {
          "output_type": "execute_result",
          "data": {
            "text/plain": [
              "Current               251552\n",
              "Fully Paid            132055\n",
              "Charged Off            40902\n",
              "Late (31-120 days)      8209\n",
              "In Grace Period         4016\n",
              "Late (16-30 days)       2257\n",
              "Name: loan_status, dtype: int64"
            ]
          },
          "metadata": {},
          "execution_count": 63
        }
      ]
    },
    {
      "cell_type": "code",
      "source": [
        "df.info()"
      ],
      "metadata": {
        "colab": {
          "base_uri": "https://localhost:8080/"
        },
        "id": "gl6qoJR9_IT3",
        "outputId": "95540da3-92a1-44b9-d072-2f1d07820f2e"
      },
      "execution_count": null,
      "outputs": [
        {
          "output_type": "stream",
          "name": "stdout",
          "text": [
            "<class 'pandas.core.frame.DataFrame'>\n",
            "RangeIndex: 438991 entries, 0 to 438990\n",
            "Data columns (total 55 columns):\n",
            " #   Column                          Non-Null Count   Dtype  \n",
            "---  ------                          --------------   -----  \n",
            " 0   id                              438991 non-null  int64  \n",
            " 1   funded_amnt                     438991 non-null  int64  \n",
            " 2   term                            438991 non-null  object \n",
            " 3   int_rate                        438991 non-null  object \n",
            " 4   installment                     438991 non-null  float64\n",
            " 5   emp_title                       408624 non-null  object \n",
            " 6   emp_length                      408978 non-null  object \n",
            " 7   home_ownership                  438991 non-null  object \n",
            " 8   annual_inc                      438991 non-null  float64\n",
            " 9   loan_status                     438991 non-null  object \n",
            " 10  purpose                         438991 non-null  object \n",
            " 11  zip_code                        438991 non-null  object \n",
            " 12  addr_state                      438991 non-null  object \n",
            " 13  dti                             438706 non-null  float64\n",
            " 14  delinq_2yrs                     438991 non-null  int64  \n",
            " 15  earliest_cr_line                438991 non-null  object \n",
            " 16  fico_range_high                 438991 non-null  int64  \n",
            " 17  inq_last_6mths                  438991 non-null  float64\n",
            " 18  mths_since_last_delinq          225315 non-null  float64\n",
            " 19  open_acc                        438991 non-null  int64  \n",
            " 20  revol_bal                       438991 non-null  int64  \n",
            " 21  revol_util                      438632 non-null  object \n",
            " 22  total_acc                       438991 non-null  int64  \n",
            " 23  application_type                438991 non-null  object \n",
            " 24  annual_inc_joint                25809 non-null   float64\n",
            " 25  dti_joint                       25808 non-null   float64\n",
            " 26  open_act_il                     438964 non-null  float64\n",
            " 27  open_il_24m                     438964 non-null  float64\n",
            " 28  il_util                         379426 non-null  float64\n",
            " 29  open_rv_24m                     438964 non-null  float64\n",
            " 30  all_util                        438917 non-null  float64\n",
            " 31  total_rev_hi_lim                438991 non-null  int64  \n",
            " 32  inq_last_12m                    438964 non-null  float64\n",
            " 33  acc_open_past_24mths            438991 non-null  int64  \n",
            " 34  bc_open_to_buy                  433800 non-null  float64\n",
            " 35  bc_util                         433602 non-null  float64\n",
            " 36  mort_acc                        438991 non-null  int64  \n",
            " 37  mths_since_recent_bc            434089 non-null  float64\n",
            " 38  mths_since_recent_bc_dlq        107024 non-null  float64\n",
            " 39  mths_since_recent_revol_delinq  153405 non-null  float64\n",
            " 40  num_accts_ever_120_pd           438991 non-null  int64  \n",
            " 41  num_rev_accts                   438991 non-null  int64  \n",
            " 42  num_rev_tl_bal_gt_0             438991 non-null  int64  \n",
            " 43  num_sats                        438991 non-null  int64  \n",
            " 44  num_tl_90g_dpd_24m              438991 non-null  int64  \n",
            " 45  num_tl_op_past_12m              438991 non-null  int64  \n",
            " 46  pct_tl_nvr_dlq                  438991 non-null  float64\n",
            " 47  percent_bc_gt_75                433774 non-null  float64\n",
            " 48  pub_rec_bankruptcies            438991 non-null  int64  \n",
            " 49  total_bal_ex_mort               438991 non-null  int64  \n",
            " 50  total_bc_limit                  438991 non-null  int64  \n",
            " 51  revol_bal_joint                 19670 non-null   float64\n",
            " 52  sec_app_fico_range_high         19671 non-null   float64\n",
            " 53  sec_app_earliest_cr_line        19671 non-null   object \n",
            " 54  sec_app_inq_last_6mths          19671 non-null   float64\n",
            "dtypes: float64(23), int64(19), object(13)\n",
            "memory usage: 184.2+ MB\n"
          ]
        }
      ]
    },
    {
      "cell_type": "code",
      "source": [
        "df.columns"
      ],
      "metadata": {
        "colab": {
          "base_uri": "https://localhost:8080/"
        },
        "id": "oFuMlV9M_gEC",
        "outputId": "1f17e145-ff88-457b-9cba-0e844f233c86"
      },
      "execution_count": null,
      "outputs": [
        {
          "output_type": "execute_result",
          "data": {
            "text/plain": [
              "Index(['id', 'funded_amnt', 'term', 'int_rate', 'installment', 'emp_title',\n",
              "       'emp_length', 'home_ownership', 'annual_inc', 'loan_status', 'purpose',\n",
              "       'zip_code', 'addr_state', 'dti', 'delinq_2yrs', 'earliest_cr_line',\n",
              "       'fico_range_high', 'inq_last_6mths', 'mths_since_last_delinq',\n",
              "       'open_acc', 'revol_bal', 'revol_util', 'total_acc', 'application_type',\n",
              "       'annual_inc_joint', 'dti_joint', 'open_act_il', 'open_il_24m',\n",
              "       'il_util', 'open_rv_24m', 'all_util', 'total_rev_hi_lim',\n",
              "       'inq_last_12m', 'acc_open_past_24mths', 'bc_open_to_buy', 'bc_util',\n",
              "       'mort_acc', 'mths_since_recent_bc', 'mths_since_recent_bc_dlq',\n",
              "       'mths_since_recent_revol_delinq', 'num_accts_ever_120_pd',\n",
              "       'num_rev_accts', 'num_rev_tl_bal_gt_0', 'num_sats',\n",
              "       'num_tl_90g_dpd_24m', 'num_tl_op_past_12m', 'pct_tl_nvr_dlq',\n",
              "       'percent_bc_gt_75', 'pub_rec_bankruptcies', 'total_bal_ex_mort',\n",
              "       'total_bc_limit', 'revol_bal_joint', 'sec_app_fico_range_high',\n",
              "       'sec_app_earliest_cr_line', 'sec_app_inq_last_6mths'],\n",
              "      dtype='object')"
            ]
          },
          "metadata": {},
          "execution_count": 66
        }
      ]
    },
    {
      "cell_type": "code",
      "source": [
        "mis_column=(df.isnull().sum())/ (df.shape[0])*100"
      ],
      "metadata": {
        "id": "A_5gj8zBCsj0"
      },
      "execution_count": null,
      "outputs": []
    },
    {
      "cell_type": "code",
      "source": [
        "mis_column"
      ],
      "metadata": {
        "colab": {
          "base_uri": "https://localhost:8080/"
        },
        "id": "2zA_TuHyCwwd",
        "outputId": "46be0d4e-9701-4e5b-d502-52d3c7dadf7b"
      },
      "execution_count": null,
      "outputs": [
        {
          "output_type": "execute_result",
          "data": {
            "text/plain": [
              "id                                 0.000000\n",
              "funded_amnt                        0.000000\n",
              "term                               0.000000\n",
              "int_rate                           0.000000\n",
              "installment                        0.000000\n",
              "emp_title                          6.917454\n",
              "emp_length                         6.836814\n",
              "home_ownership                     0.000000\n",
              "annual_inc                         0.000000\n",
              "loan_status                        0.000000\n",
              "purpose                            0.000000\n",
              "zip_code                           0.000000\n",
              "addr_state                         0.000000\n",
              "dti                                0.064922\n",
              "delinq_2yrs                        0.000000\n",
              "earliest_cr_line                   0.000000\n",
              "fico_range_high                    0.000000\n",
              "inq_last_6mths                     0.000000\n",
              "mths_since_last_delinq            48.674346\n",
              "open_acc                           0.000000\n",
              "revol_bal                          0.000000\n",
              "revol_util                         0.081778\n",
              "total_acc                          0.000000\n",
              "application_type                   0.000000\n",
              "annual_inc_joint                  94.120836\n",
              "dti_joint                         94.121064\n",
              "open_act_il                        0.006150\n",
              "open_il_24m                        0.006150\n",
              "il_util                           13.568615\n",
              "open_rv_24m                        0.006150\n",
              "all_util                           0.016857\n",
              "total_rev_hi_lim                   0.000000\n",
              "inq_last_12m                       0.006150\n",
              "acc_open_past_24mths               0.000000\n",
              "bc_open_to_buy                     1.182484\n",
              "bc_util                            1.227588\n",
              "mort_acc                           0.000000\n",
              "mths_since_recent_bc               1.116652\n",
              "mths_since_recent_bc_dlq          75.620457\n",
              "mths_since_recent_revol_delinq    65.055092\n",
              "num_accts_ever_120_pd              0.000000\n",
              "num_rev_accts                      0.000000\n",
              "num_rev_tl_bal_gt_0                0.000000\n",
              "num_sats                           0.000000\n",
              "num_tl_90g_dpd_24m                 0.000000\n",
              "num_tl_op_past_12m                 0.000000\n",
              "pct_tl_nvr_dlq                     0.000000\n",
              "percent_bc_gt_75                   1.188407\n",
              "pub_rec_bankruptcies               0.000000\n",
              "total_bal_ex_mort                  0.000000\n",
              "total_bc_limit                     0.000000\n",
              "revol_bal_joint                   95.519270\n",
              "sec_app_fico_range_high           95.519043\n",
              "sec_app_earliest_cr_line          95.519043\n",
              "sec_app_inq_last_6mths            95.519043\n",
              "dtype: float64"
            ]
          },
          "metadata": {},
          "execution_count": 68
        }
      ]
    },
    {
      "cell_type": "code",
      "source": [
        "# removing columns having more then 50% of missing values\n",
        "missingvalue = list(mis_column[mis_column >= 50].index)\n",
        "missingvalue"
      ],
      "metadata": {
        "colab": {
          "base_uri": "https://localhost:8080/"
        },
        "id": "v79gvwNbHPUp",
        "outputId": "0fea56a6-51f4-4bf8-aa3a-fdb2fa3879d8"
      },
      "execution_count": null,
      "outputs": [
        {
          "output_type": "execute_result",
          "data": {
            "text/plain": [
              "['annual_inc_joint',\n",
              " 'dti_joint',\n",
              " 'mths_since_recent_bc_dlq',\n",
              " 'mths_since_recent_revol_delinq',\n",
              " 'revol_bal_joint',\n",
              " 'sec_app_fico_range_high',\n",
              " 'sec_app_earliest_cr_line',\n",
              " 'sec_app_inq_last_6mths']"
            ]
          },
          "metadata": {},
          "execution_count": 70
        }
      ]
    },
    {
      "cell_type": "code",
      "source": [
        "df = df.drop(missingvalue,axis=1)\n",
        "df.shape"
      ],
      "metadata": {
        "colab": {
          "base_uri": "https://localhost:8080/"
        },
        "id": "I05R_97wH_fC",
        "outputId": "8f3047c8-da9c-41db-94b6-4a2f772e72a6"
      },
      "execution_count": null,
      "outputs": [
        {
          "output_type": "execute_result",
          "data": {
            "text/plain": [
              "(438991, 47)"
            ]
          },
          "metadata": {},
          "execution_count": 71
        }
      ]
    },
    {
      "cell_type": "code",
      "source": [
        "mis_column1=(df.isnull().sum())/ (df.shape[0])*100\n",
        "mis_column1[mis_column1 != 0]"
      ],
      "metadata": {
        "colab": {
          "base_uri": "https://localhost:8080/"
        },
        "id": "3S0tiCw3IHU2",
        "outputId": "56b25d32-6ec0-4b74-c98c-154ef3c646ae"
      },
      "execution_count": null,
      "outputs": [
        {
          "output_type": "execute_result",
          "data": {
            "text/plain": [
              "emp_title                  6.917454\n",
              "emp_length                 6.836814\n",
              "dti                        0.064922\n",
              "mths_since_last_delinq    48.674346\n",
              "revol_util                 0.081778\n",
              "open_act_il                0.006150\n",
              "open_il_24m                0.006150\n",
              "il_util                   13.568615\n",
              "open_rv_24m                0.006150\n",
              "all_util                   0.016857\n",
              "inq_last_12m               0.006150\n",
              "bc_open_to_buy             1.182484\n",
              "bc_util                    1.227588\n",
              "mths_since_recent_bc       1.116652\n",
              "percent_bc_gt_75           1.188407\n",
              "dtype: float64"
            ]
          },
          "metadata": {},
          "execution_count": 72
        }
      ]
    },
    {
      "cell_type": "code",
      "source": [
        "n = df.nunique(axis=0)\n",
        "n"
      ],
      "metadata": {
        "colab": {
          "base_uri": "https://localhost:8080/"
        },
        "id": "rME3IqLRIXT_",
        "outputId": "81315309-1563-4cca-d986-6b08e80299ee"
      },
      "execution_count": null,
      "outputs": [
        {
          "output_type": "execute_result",
          "data": {
            "text/plain": [
              "id                        438991\n",
              "funded_amnt                 1554\n",
              "term                           2\n",
              "int_rate                     169\n",
              "installment                44023\n",
              "emp_title                 120032\n",
              "emp_length                    11\n",
              "home_ownership                 5\n",
              "annual_inc                 28079\n",
              "loan_status                    6\n",
              "purpose                       14\n",
              "zip_code                     908\n",
              "addr_state                    50\n",
              "dti                         6986\n",
              "delinq_2yrs                   29\n",
              "earliest_cr_line             680\n",
              "fico_range_high               38\n",
              "inq_last_6mths                 6\n",
              "mths_since_last_delinq       147\n",
              "open_acc                      74\n",
              "revol_bal                  61561\n",
              "revol_util                  1163\n",
              "total_acc                    126\n",
              "application_type               2\n",
              "open_act_il                   44\n",
              "open_il_24m                   27\n",
              "il_util                      242\n",
              "open_rv_24m                   46\n",
              "all_util                     175\n",
              "total_rev_hi_lim           11275\n",
              "inq_last_12m                  39\n",
              "acc_open_past_24mths          47\n",
              "bc_open_to_buy             56852\n",
              "bc_util                     1269\n",
              "mort_acc                      30\n",
              "mths_since_recent_bc         437\n",
              "num_accts_ever_120_pd         40\n",
              "num_rev_accts                 96\n",
              "num_rev_tl_bal_gt_0           45\n",
              "num_sats                      74\n",
              "num_tl_90g_dpd_24m            27\n",
              "num_tl_op_past_12m            27\n",
              "pct_tl_nvr_dlq               600\n",
              "percent_bc_gt_75             207\n",
              "pub_rec_bankruptcies           9\n",
              "total_bal_ex_mort         132771\n",
              "total_bc_limit              5562\n",
              "dtype: int64"
            ]
          },
          "metadata": {},
          "execution_count": 73
        }
      ]
    },
    {
      "cell_type": "code",
      "source": [
        "df = df.drop([\"emp_title\", \"addr_state\", \"zip_code\",'id',\"mths_since_last_delinq\",\"total_bc_limit\",\"total_bal_ex_mort\",\"percent_bc_gt_75\",\"num_tl_op_past_12m\",\"num_sats\",\"num_rev_tl_bal_gt_0\",\"num_rev_accts\"\n",
        "             ,\"num_accts_ever_120_pd\",\"mths_since_recent_bc\",\"acc_open_past_24mths\",\"inq_last_12m\",\"total_rev_hi_lim\"],axis=1)"
      ],
      "metadata": {
        "id": "TRWW3yRRIh9D"
      },
      "execution_count": null,
      "outputs": []
    },
    {
      "cell_type": "code",
      "source": [
        "df.shape"
      ],
      "metadata": {
        "colab": {
          "base_uri": "https://localhost:8080/"
        },
        "id": "s4RUP4wfJT97",
        "outputId": "d8c93f04-3575-41d8-ba96-a3288dad701b"
      },
      "execution_count": null,
      "outputs": [
        {
          "output_type": "execute_result",
          "data": {
            "text/plain": [
              "(438991, 30)"
            ]
          },
          "metadata": {},
          "execution_count": 75
        }
      ]
    },
    {
      "cell_type": "code",
      "source": [
        "#removing null value\n",
        "df = df.dropna(how=\"any\") \n",
        "df=df.drop_duplicates(keep='first')\n",
        "df.shape"
      ],
      "metadata": {
        "colab": {
          "base_uri": "https://localhost:8080/"
        },
        "id": "wyO7ZKT4JbAA",
        "outputId": "322bc9db-1942-4af7-ef8a-7d145eb45525"
      },
      "execution_count": null,
      "outputs": [
        {
          "output_type": "execute_result",
          "data": {
            "text/plain": [
              "(353169, 30)"
            ]
          },
          "metadata": {},
          "execution_count": 76
        }
      ]
    },
    {
      "cell_type": "code",
      "source": [
        "df['loan_status'].value_counts()"
      ],
      "metadata": {
        "colab": {
          "base_uri": "https://localhost:8080/"
        },
        "id": "hYPkFzdsJhOE",
        "outputId": "cf6150d9-427a-42c6-ba31-c40cd5aede3a"
      },
      "execution_count": null,
      "outputs": [
        {
          "output_type": "execute_result",
          "data": {
            "text/plain": [
              "Current               200984\n",
              "Fully Paid            107611\n",
              "Charged Off            32874\n",
              "Late (31-120 days)      6568\n",
              "In Grace Period         3314\n",
              "Late (16-30 days)       1818\n",
              "Name: loan_status, dtype: int64"
            ]
          },
          "metadata": {},
          "execution_count": 77
        }
      ]
    },
    {
      "cell_type": "code",
      "source": [
        "import matplotlib.pyplot as plt\n",
        "import seaborn as sns\n",
        "plt.figure(figsize=(16,8))\n",
        "sns.countplot(x='loan_status',data=df)\n",
        "plt.show()"
      ],
      "metadata": {
        "colab": {
          "base_uri": "https://localhost:8080/",
          "height": 498
        },
        "id": "vb0GX_Z_JlwN",
        "outputId": "5b6ed61e-7d3e-40af-f147-863483b572b9"
      },
      "execution_count": null,
      "outputs": [
        {
          "output_type": "display_data",
          "data": {
            "text/plain": [
              "<Figure size 1152x576 with 1 Axes>"
            ],
            "image/png": "[encoded data removed]"
          },
          "metadata": {
            "needs_background": "light"
          }
        }
      ]
    },
    {
      "cell_type": "markdown",
      "source": [
        "we are considering current and fully paid as Good loan and other status as Bad Loan"
      ],
      "metadata": {
        "id": "zv4GghpdJ4Nk"
      }
    },
    {
      "cell_type": "code",
      "source": [
        "df['loan_status']=df['loan_status'].apply( lambda x: 1 if x in (\"Current\",\"Fully Paid\") else 0)"
      ],
      "metadata": {
        "id": "Xndv1ZguJ5r_"
      },
      "execution_count": null,
      "outputs": []
    },
    {
      "cell_type": "code",
      "source": [
        "df['loan_status'].value_counts()"
      ],
      "metadata": {
        "colab": {
          "base_uri": "https://localhost:8080/"
        },
        "id": "3aIvDOpOKBXI",
        "outputId": "ba804943-b48e-4306-f1d6-eace5762ce3f"
      },
      "execution_count": null,
      "outputs": [
        {
          "output_type": "execute_result",
          "data": {
            "text/plain": [
              "1    308595\n",
              "0     44574\n",
              "Name: loan_status, dtype: int64"
            ]
          },
          "metadata": {},
          "execution_count": 80
        }
      ]
    },
    {
      "cell_type": "code",
      "source": [
        "good_loan = (sum(df['loan_status'])/len(df['loan_status'].index))*100\n",
        "good_loan"
      ],
      "metadata": {
        "colab": {
          "base_uri": "https://localhost:8080/"
        },
        "id": "Ro8IBxYiKFrN",
        "outputId": "1953263f-cf8f-429d-caea-937fb8fe9422"
      },
      "execution_count": null,
      "outputs": [
        {
          "output_type": "execute_result",
          "data": {
            "text/plain": [
              "87.378846954291"
            ]
          },
          "metadata": {},
          "execution_count": 81
        }
      ]
    },
    {
      "cell_type": "code",
      "source": [
        "df.shape"
      ],
      "metadata": {
        "colab": {
          "base_uri": "https://localhost:8080/"
        },
        "id": "644P_O0tKJmA",
        "outputId": "95496ed1-3820-483e-ccd9-4d19de1ea11f"
      },
      "execution_count": null,
      "outputs": [
        {
          "output_type": "execute_result",
          "data": {
            "text/plain": [
              "(353169, 30)"
            ]
          },
          "metadata": {},
          "execution_count": 82
        }
      ]
    },
    {
      "cell_type": "code",
      "source": [
        "plt.figure(figsize=(25,4))\n",
        "sns.countplot(x='purpose',data=df)\n",
        "plt.show()"
      ],
      "metadata": {
        "colab": {
          "base_uri": "https://localhost:8080/",
          "height": 216
        },
        "id": "0ui-YlX4KNtv",
        "outputId": "5393c778-018d-4818-9403-ce561cf0738b"
      },
      "execution_count": null,
      "outputs": [
        {
          "output_type": "display_data",
          "data": {
            "text/plain": [
              "<Figure size 1800x288 with 1 Axes>"
            ],
            "image/png": "[encoded data removed]"
          },
          "metadata": {
            "needs_background": "light"
          }
        }
      ]
    },
    {
      "cell_type": "code",
      "source": [
        "plt.figure(figsize=(8,4))\n",
        "sns.barplot(x='loan_status',y='funded_amnt',data=df)\n",
        "plt.show()"
      ],
      "metadata": {
        "colab": {
          "base_uri": "https://localhost:8080/",
          "height": 280
        },
        "id": "yGoJykX6KcTI",
        "outputId": "33a3744a-b407-4e04-fe54-78d1d4934cce"
      },
      "execution_count": null,
      "outputs": [
        {
          "output_type": "display_data",
          "data": {
            "text/plain": [
              "<Figure size 576x288 with 1 Axes>"
            ],
            "image/png": "[encoded data removed]"
          },
          "metadata": {
            "needs_background": "light"
          }
        }
      ]
    },
    {
      "cell_type": "code",
      "source": [
        "plt.figure(figsize=(16,8))\n",
        "Crosstab=pd.crosstab(index=df['purpose'],columns=df['loan_status'])\n",
        "Crosstab.plot.bar()\n",
        "plt.show()"
      ],
      "metadata": {
        "id": "h8_hNrTcKpv9",
        "colab": {
          "base_uri": "https://localhost:8080/",
          "height": 386
        },
        "outputId": "2ebd553f-cfdb-453b-dc6c-45feacefcf1d"
      },
      "execution_count": null,
      "outputs": [
        {
          "output_type": "display_data",
          "data": {
            "text/plain": [
              "<Figure size 1152x576 with 0 Axes>"
            ]
          },
          "metadata": {}
        },
        {
          "output_type": "display_data",
          "data": {
            "text/plain": [
              "<Figure size 432x288 with 1 Axes>"
            ],
            "image/png": "[encoded data removed]"
          },
          "metadata": {
            "needs_background": "light"
          }
        }
      ]
    },
    {
      "cell_type": "code",
      "source": [
        "df.groupby('purpose')['loan_status'].value_counts(normalize=True).loc[:,0].sort_values()"
      ],
      "metadata": {
        "colab": {
          "base_uri": "https://localhost:8080/"
        },
        "id": "igMjTqaSMcc7",
        "outputId": "09403dd6-b7a7-48a3-f2c5-49512100c02e"
      },
      "execution_count": null,
      "outputs": [
        {
          "output_type": "execute_result",
          "data": {
            "text/plain": [
              "purpose\n",
              "car                   0.093961\n",
              "credit_card           0.105306\n",
              "home_improvement      0.110908\n",
              "major_purchase        0.119644\n",
              "medical               0.124506\n",
              "other                 0.125558\n",
              "vacation              0.129524\n",
              "house                 0.134336\n",
              "debt_consolidation    0.134828\n",
              "moving                0.154690\n",
              "renewable_energy      0.160173\n",
              "small_business        0.193606\n",
              "Name: loan_status, dtype: float64"
            ]
          },
          "metadata": {},
          "execution_count": 86
        }
      ]
    },
    {
      "cell_type": "markdown",
      "source": [
        "small business more likely to be bad loans"
      ],
      "metadata": {
        "id": "ut8AKXvoMhgd"
      }
    },
    {
      "cell_type": "code",
      "source": [
        "df.groupby('loan_status')['funded_amnt'].describe()"
      ],
      "metadata": {
        "colab": {
          "base_uri": "https://localhost:8080/",
          "height": 143
        },
        "id": "_oZogecMMjeV",
        "outputId": "61eb7dd7-c675-4dfc-a9c3-847fb7d8f2cd"
      },
      "execution_count": null,
      "outputs": [
        {
          "output_type": "execute_result",
          "data": {
            "text/plain": [
              "                count          mean          std     min     25%      50%  \\\n",
              "loan_status                                                                 \n",
              "0             44574.0  16080.691098  9237.629043  1000.0  9000.0  15000.0   \n",
              "1            308595.0  14908.282296  9328.536809  1000.0  8000.0  12250.0   \n",
              "\n",
              "                 75%      max  \n",
              "loan_status                    \n",
              "0            21575.0  40000.0  \n",
              "1            20000.0  40000.0  "
            ],
            "text/html": [
              "\n",
              "  <div id=\"df-a7d46718-d726-4ca7-a0d1-3d1654a6bc22\">\n",
              "    <div class=\"colab-df-container\">\n",
              "      <div>\n",
              "<style scoped>\n",
              "    .dataframe tbody tr th:only-of-type {\n",
              "        vertical-align: middle;\n",
              "    }\n",
              "\n",
              "    .dataframe tbody tr th {\n",
              "        vertical-align: top;\n",
              "    }\n",
              "\n",
              "    .dataframe thead th {\n",
              "        text-align: right;\n",
              "    }\n",
              "</style>\n",
              "<table border=\"1\" class=\"dataframe\">\n",
              "  <thead>\n",
              "    <tr style=\"text-align: right;\">\n",
              "      <th></th>\n",
              "      <th>count</th>\n",
              "      <th>mean</th>\n",
              "      <th>std</th>\n",
              "      <th>min</th>\n",
              "      <th>25%</th>\n",
              "      <th>50%</th>\n",
              "      <th>75%</th>\n",
              "      <th>max</th>\n",
              "    </tr>\n",
              "    <tr>\n",
              "      <th>loan_status</th>\n",
              "      <th></th>\n",
              "      <th></th>\n",
              "      <th></th>\n",
              "      <th></th>\n",
              "      <th></th>\n",
              "      <th></th>\n",
              "      <th></th>\n",
              "      <th></th>\n",
              "    </tr>\n",
              "  </thead>\n",
              "  <tbody>\n",
              "    <tr>\n",
              "      <th>0</th>\n",
              "      <td>44574.0</td>\n",
              "      <td>16080.691098</td>\n",
              "      <td>9237.629043</td>\n",
              "      <td>1000.0</td>\n",
              "      <td>9000.0</td>\n",
              "      <td>15000.0</td>\n",
              "      <td>21575.0</td>\n",
              "      <td>40000.0</td>\n",
              "    </tr>\n",
              "    <tr>\n",
              "      <th>1</th>\n",
              "      <td>308595.0</td>\n",
              "      <td>14908.282296</td>\n",
              "      <td>9328.536809</td>\n",
              "      <td>1000.0</td>\n",
              "      <td>8000.0</td>\n",
              "      <td>12250.0</td>\n",
              "      <td>20000.0</td>\n",
              "      <td>40000.0</td>\n",
              "    </tr>\n",
              "  </tbody>\n",
              "</table>\n",
              "</div>\n",
              "      <button class=\"colab-df-convert\" onclick=\"convertToInteractive('df-a7d46718-d726-4ca7-a0d1-3d1654a6bc22')\"\n",
              "              title=\"Convert this dataframe to an interactive table.\"\n",
              "              style=\"display:none;\">\n",
              "        \n",
              "  <svg xmlns=\"http://www.w3.org/2000/svg\" height=\"24px\"viewBox=\"0 0 24 24\"\n",
              "       width=\"24px\">\n",
              "    <path d=\"M0 0h24v24H0V0z\" fill=\"none\"/>\n",
              "    <path d=\"M18.56 5.44l.94 2.06.94-2.06 2.06-.94-2.06-.94-.94-2.06-.94 2.06-2.06.94zm-11 1L8.5 8.5l.94-2.06 2.06-.94-2.06-.94L8.5 2.5l-.94 2.06-2.06.94zm10 10l.94 2.06.94-2.06 2.06-.94-2.06-.94-.94-2.06-.94 2.06-2.06.94z\"/><path d=\"M17.41 7.96l-1.37-1.37c-.4-.4-.92-.59-1.43-.59-.52 0-1.04.2-1.43.59L10.3 9.45l-7.72 7.72c-.78.78-.78 2.05 0 2.83L4 21.41c.39.39.9.59 1.41.59.51 0 1.02-.2 1.41-.59l7.78-7.78 2.81-2.81c.8-.78.8-2.07 0-2.86zM5.41 20L4 18.59l7.72-7.72 1.47 1.35L5.41 20z\"/>\n",
              "  </svg>\n",
              "      </button>\n",
              "      \n",
              "  <style>\n",
              "    .colab-df-container {\n",
              "      display:flex;\n",
              "      flex-wrap:wrap;\n",
              "      gap: 12px;\n",
              "    }\n",
              "\n",
              "    .colab-df-convert {\n",
              "      background-color: #E8F0FE;\n",
              "      border: none;\n",
              "      border-radius: 50%;\n",
              "      cursor: pointer;\n",
              "      display: none;\n",
              "      fill: #1967D2;\n",
              "      height: 32px;\n",
              "      padding: 0 0 0 0;\n",
              "      width: 32px;\n",
              "    }\n",
              "\n",
              "    .colab-df-convert:hover {\n",
              "      background-color: #E2EBFA;\n",
              "      box-shadow: 0px 1px 2px rgba(60, 64, 67, 0.3), 0px 1px 3px 1px rgba(60, 64, 67, 0.15);\n",
              "      fill: #174EA6;\n",
              "    }\n",
              "\n",
              "    [theme=dark] .colab-df-convert {\n",
              "      background-color: #3B4455;\n",
              "      fill: #D2E3FC;\n",
              "    }\n",
              "\n",
              "    [theme=dark] .colab-df-convert:hover {\n",
              "      background-color: #434B5C;\n",
              "      box-shadow: 0px 1px 3px 1px rgba(0, 0, 0, 0.15);\n",
              "      filter: drop-shadow(0px 1px 2px rgba(0, 0, 0, 0.3));\n",
              "      fill: #FFFFFF;\n",
              "    }\n",
              "  </style>\n",
              "\n",
              "      <script>\n",
              "        const buttonEl =\n",
              "          document.querySelector('#df-a7d46718-d726-4ca7-a0d1-3d1654a6bc22 button.colab-df-convert');\n",
              "        buttonEl.style.display =\n",
              "          google.colab.kernel.accessAllowed ? 'block' : 'none';\n",
              "\n",
              "        async function convertToInteractive(key) {\n",
              "          const element = document.querySelector('#df-a7d46718-d726-4ca7-a0d1-3d1654a6bc22');\n",
              "          const dataTable =\n",
              "            await google.colab.kernel.invokeFunction('convertToInteractive',\n",
              "                                                     [key], {});\n",
              "          if (!dataTable) return;\n",
              "\n",
              "          const docLinkHtml = 'Like what you see? Visit the ' +\n",
              "            '<a target=\"_blank\" href=https://colab.research.google.com/notebooks/data_table.ipynb>data table notebook</a>'\n",
              "            + ' to learn more about interactive tables.';\n",
              "          element.innerHTML = '';\n",
              "          dataTable['output_type'] = 'display_data';\n",
              "          await google.colab.output.renderOutput(dataTable, element);\n",
              "          const docLink = document.createElement('div');\n",
              "          docLink.innerHTML = docLinkHtml;\n",
              "          element.appendChild(docLink);\n",
              "        }\n",
              "      </script>\n",
              "    </div>\n",
              "  </div>\n",
              "  "
            ]
          },
          "metadata": {},
          "execution_count": 87
        }
      ]
    },
    {
      "cell_type": "code",
      "source": [
        "100*((df['term'].value_counts())/df.shape[0])"
      ],
      "metadata": {
        "colab": {
          "base_uri": "https://localhost:8080/"
        },
        "id": "pJDSbQ4dMprb",
        "outputId": "4b4a92ed-2fe6-46f7-bfae-768143dbdc46"
      },
      "execution_count": null,
      "outputs": [
        {
          "output_type": "execute_result",
          "data": {
            "text/plain": [
              " 36 months    72.180458\n",
              " 60 months    27.819542\n",
              "Name: term, dtype: float64"
            ]
          },
          "metadata": {},
          "execution_count": 88
        }
      ]
    },
    {
      "cell_type": "code",
      "source": [
        "100*((df.groupby('term')['loan_status'].value_counts())/ df.shape[0])"
      ],
      "metadata": {
        "colab": {
          "base_uri": "https://localhost:8080/"
        },
        "id": "M5E3G8nFMsFZ",
        "outputId": "331db9ac-8132-4321-874e-0488cea2b115"
      },
      "execution_count": null,
      "outputs": [
        {
          "output_type": "execute_result",
          "data": {
            "text/plain": [
              "term        loan_status\n",
              " 36 months  1              63.942192\n",
              "            0               8.238266\n",
              " 60 months  1              23.436655\n",
              "            0               4.382888\n",
              "Name: loan_status, dtype: float64"
            ]
          },
          "metadata": {},
          "execution_count": 89
        }
      ]
    },
    {
      "cell_type": "markdown",
      "source": [
        "About 72% of the completed loans have three-year periods, and the rest have five-year periods. Loans with 3-year periods are more than twice as likely to charge-off as loans with 5-year periods."
      ],
      "metadata": {
        "id": "y0Ijd-dlMwJR"
      }
    },
    {
      "cell_type": "code",
      "source": [
        "Crosstab=pd.crosstab(index=df['home_ownership'],columns=df['loan_status'])\n",
        "Crosstab.plot.bar()\n",
        "plt.show()"
      ],
      "metadata": {
        "colab": {
          "base_uri": "https://localhost:8080/",
          "height": 327
        },
        "id": "Bx35_UeQMvw4",
        "outputId": "0532fdbd-c02d-4768-ee55-835162b86b94"
      },
      "execution_count": null,
      "outputs": [
        {
          "output_type": "display_data",
          "data": {
            "text/plain": [
              "<Figure size 432x288 with 1 Axes>"
            ],
            "image/png": "[encoded data removed]"
          },
          "metadata": {
            "needs_background": "light"
          }
        }
      ]
    },
    {
      "cell_type": "code",
      "source": [
        "Crosstab=pd.crosstab(index=df['purpose'],columns=df['home_ownership'])\n",
        "Crosstab.plot.bar()"
      ],
      "metadata": {
        "colab": {
          "base_uri": "https://localhost:8080/",
          "height": 386
        },
        "id": "B658c3NNM_w_",
        "outputId": "608fcdee-2129-4a8c-b1a2-c3078b479af1"
      },
      "execution_count": null,
      "outputs": [
        {
          "output_type": "execute_result",
          "data": {
            "text/plain": [
              "<matplotlib.axes._subplots.AxesSubplot at 0x7efebfa69350>"
            ]
          },
          "metadata": {},
          "execution_count": 91
        },
        {
          "output_type": "display_data",
          "data": {
            "text/plain": [
              "<Figure size 432x288 with 1 Axes>"
            ],
            "image/png": "[encoded data removed]"
          },
          "metadata": {
            "needs_background": "light"
          }
        }
      ]
    },
    {
      "cell_type": "markdown",
      "source": [
        "There appear to be large differences in bad loan rates by home ownership status. Renters and Mortage have a higher probability of charge-off or other bad loans."
      ],
      "metadata": {
        "id": "OCxgi_uhNGfL"
      }
    },
    {
      "cell_type": "code",
      "source": [
        "df.groupby('home_ownership')['loan_status'].value_counts(normalize=True).loc[:,0]"
      ],
      "metadata": {
        "colab": {
          "base_uri": "https://localhost:8080/"
        },
        "id": "5Rl95xqeNIj2",
        "outputId": "78ac57de-24f1-4c46-9f9a-a05cfe3464d7"
      },
      "execution_count": null,
      "outputs": [
        {
          "output_type": "execute_result",
          "data": {
            "text/plain": [
              "home_ownership\n",
              "ANY         0.110599\n",
              "MORTGAGE    0.108027\n",
              "OWN         0.128816\n",
              "RENT        0.148390\n",
              "Name: loan_status, dtype: float64"
            ]
          },
          "metadata": {},
          "execution_count": 92
        }
      ]
    },
    {
      "cell_type": "code",
      "source": [
        "import warnings\n",
        "warnings.filterwarnings(\"ignore\")\n",
        "sns.distplot(df['installment'])\n",
        "plt.show()"
      ],
      "metadata": {
        "colab": {
          "base_uri": "https://localhost:8080/",
          "height": 279
        },
        "id": "voFjhFQGNMcx",
        "outputId": "4c960342-b92d-45fb-89ca-c997e728992d"
      },
      "execution_count": null,
      "outputs": [
        {
          "output_type": "display_data",
          "data": {
            "text/plain": [
              "<Figure size 432x288 with 1 Axes>"
            ],
            "image/png": "[encoded data removed]"
          },
          "metadata": {
            "needs_background": "light"
          }
        }
      ]
    },
    {
      "cell_type": "code",
      "source": [
        "sns.boxplot(y='installment',x='loan_status',data=df)"
      ],
      "metadata": {
        "colab": {
          "base_uri": "https://localhost:8080/",
          "height": 297
        },
        "id": "VqFxD3UWNywA",
        "outputId": "5a1a7780-0880-4b48-9ead-566fa4d8b313"
      },
      "execution_count": null,
      "outputs": [
        {
          "output_type": "execute_result",
          "data": {
            "text/plain": [
              "<matplotlib.axes._subplots.AxesSubplot at 0x7efebf861150>"
            ]
          },
          "metadata": {},
          "execution_count": 94
        },
        {
          "output_type": "display_data",
          "data": {
            "text/plain": [
              "<Figure size 432x288 with 1 Axes>"
            ],
            "image/png": "[encoded data removed]"
          },
          "metadata": {
            "needs_background": "light"
          }
        }
      ]
    },
    {
      "cell_type": "code",
      "source": [
        "df['emp_length'].replace(to_replace='10+ years', value='10 years', inplace=True)\n",
        "df['emp_length'].replace('< 1 years', '0 years', inplace=True)\n",
        "df['emp_length'].replace('< 1 year', '0 years', inplace=True)\n",
        "df['emp_length'].replace('1 year', '1 years', inplace=True)\n",
        "plt.figure(figsize = (12, 5))\n",
        "sns.countplot(df['emp_length'])\n",
        "plt.show()"
      ],
      "metadata": {
        "colab": {
          "base_uri": "https://localhost:8080/",
          "height": 335
        },
        "id": "mFHRbAdZN5Gb",
        "outputId": "5f10aff7-6898-401e-cb13-591b7bd5bf08"
      },
      "execution_count": null,
      "outputs": [
        {
          "output_type": "display_data",
          "data": {
            "text/plain": [
              "<Figure size 864x360 with 1 Axes>"
            ],
            "image/png": "[encoded data removed]"
          },
          "metadata": {
            "needs_background": "light"
          }
        }
      ]
    },
    {
      "cell_type": "code",
      "source": [
        "import seaborn as sns\n",
        "sns.boxplot(y='fico_range_high',x='loan_status',data=df)\n",
        "plt.show()"
      ],
      "metadata": {
        "colab": {
          "base_uri": "https://localhost:8080/",
          "height": 280
        },
        "id": "gqWVdzpQOOj0",
        "outputId": "8c56b46f-ca48-497f-df04-2f4f88b462e1"
      },
      "execution_count": null,
      "outputs": [
        {
          "output_type": "display_data",
          "data": {
            "text/plain": [
              "<Figure size 432x288 with 1 Axes>"
            ],
            "image/png": "[encoded data removed]"
          },
          "metadata": {
            "needs_background": "light"
          }
        }
      ]
    },
    {
      "cell_type": "code",
      "source": [
        "df.groupby('loan_status')['fico_range_high'].describe()"
      ],
      "metadata": {
        "colab": {
          "base_uri": "https://localhost:8080/",
          "height": 143
        },
        "id": "dxg8KpAMOWBV",
        "outputId": "d57da54e-3707-46fa-a15d-39963ef202fb"
      },
      "execution_count": null,
      "outputs": [
        {
          "output_type": "execute_result",
          "data": {
            "text/plain": [
              "                count        mean        std    min    25%    50%    75%  \\\n",
              "loan_status                                                                \n",
              "0             44574.0  691.404653  25.755466  664.0  674.0  684.0  704.0   \n",
              "1            308595.0  703.148298  33.074807  664.0  679.0  694.0  719.0   \n",
              "\n",
              "               max  \n",
              "loan_status         \n",
              "0            844.0  \n",
              "1            850.0  "
            ],
            "text/html": [
              "\n",
              "  <div id=\"df-3d4be2be-2849-4f55-a1c9-c4b80e3363c7\">\n",
              "    <div class=\"colab-df-container\">\n",
              "      <div>\n",
              "<style scoped>\n",
              "    .dataframe tbody tr th:only-of-type {\n",
              "        vertical-align: middle;\n",
              "    }\n",
              "\n",
              "    .dataframe tbody tr th {\n",
              "        vertical-align: top;\n",
              "    }\n",
              "\n",
              "    .dataframe thead th {\n",
              "        text-align: right;\n",
              "    }\n",
              "</style>\n",
              "<table border=\"1\" class=\"dataframe\">\n",
              "  <thead>\n",
              "    <tr style=\"text-align: right;\">\n",
              "      <th></th>\n",
              "      <th>count</th>\n",
              "      <th>mean</th>\n",
              "      <th>std</th>\n",
              "      <th>min</th>\n",
              "      <th>25%</th>\n",
              "      <th>50%</th>\n",
              "      <th>75%</th>\n",
              "      <th>max</th>\n",
              "    </tr>\n",
              "    <tr>\n",
              "      <th>loan_status</th>\n",
              "      <th></th>\n",
              "      <th></th>\n",
              "      <th></th>\n",
              "      <th></th>\n",
              "      <th></th>\n",
              "      <th></th>\n",
              "      <th></th>\n",
              "      <th></th>\n",
              "    </tr>\n",
              "  </thead>\n",
              "  <tbody>\n",
              "    <tr>\n",
              "      <th>0</th>\n",
              "      <td>44574.0</td>\n",
              "      <td>691.404653</td>\n",
              "      <td>25.755466</td>\n",
              "      <td>664.0</td>\n",
              "      <td>674.0</td>\n",
              "      <td>684.0</td>\n",
              "      <td>704.0</td>\n",
              "      <td>844.0</td>\n",
              "    </tr>\n",
              "    <tr>\n",
              "      <th>1</th>\n",
              "      <td>308595.0</td>\n",
              "      <td>703.148298</td>\n",
              "      <td>33.074807</td>\n",
              "      <td>664.0</td>\n",
              "      <td>679.0</td>\n",
              "      <td>694.0</td>\n",
              "      <td>719.0</td>\n",
              "      <td>850.0</td>\n",
              "    </tr>\n",
              "  </tbody>\n",
              "</table>\n",
              "</div>\n",
              "      <button class=\"colab-df-convert\" onclick=\"convertToInteractive('df-3d4be2be-2849-4f55-a1c9-c4b80e3363c7')\"\n",
              "              title=\"Convert this dataframe to an interactive table.\"\n",
              "              style=\"display:none;\">\n",
              "        \n",
              "  <svg xmlns=\"http://www.w3.org/2000/svg\" height=\"24px\"viewBox=\"0 0 24 24\"\n",
              "       width=\"24px\">\n",
              "    <path d=\"M0 0h24v24H0V0z\" fill=\"none\"/>\n",
              "    <path d=\"M18.56 5.44l.94 2.06.94-2.06 2.06-.94-2.06-.94-.94-2.06-.94 2.06-2.06.94zm-11 1L8.5 8.5l.94-2.06 2.06-.94-2.06-.94L8.5 2.5l-.94 2.06-2.06.94zm10 10l.94 2.06.94-2.06 2.06-.94-2.06-.94-.94-2.06-.94 2.06-2.06.94z\"/><path d=\"M17.41 7.96l-1.37-1.37c-.4-.4-.92-.59-1.43-.59-.52 0-1.04.2-1.43.59L10.3 9.45l-7.72 7.72c-.78.78-.78 2.05 0 2.83L4 21.41c.39.39.9.59 1.41.59.51 0 1.02-.2 1.41-.59l7.78-7.78 2.81-2.81c.8-.78.8-2.07 0-2.86zM5.41 20L4 18.59l7.72-7.72 1.47 1.35L5.41 20z\"/>\n",
              "  </svg>\n",
              "      </button>\n",
              "      \n",
              "  <style>\n",
              "    .colab-df-container {\n",
              "      display:flex;\n",
              "      flex-wrap:wrap;\n",
              "      gap: 12px;\n",
              "    }\n",
              "\n",
              "    .colab-df-convert {\n",
              "      background-color: #E8F0FE;\n",
              "      border: none;\n",
              "      border-radius: 50%;\n",
              "      cursor: pointer;\n",
              "      display: none;\n",
              "      fill: #1967D2;\n",
              "      height: 32px;\n",
              "      padding: 0 0 0 0;\n",
              "      width: 32px;\n",
              "    }\n",
              "\n",
              "    .colab-df-convert:hover {\n",
              "      background-color: #E2EBFA;\n",
              "      box-shadow: 0px 1px 2px rgba(60, 64, 67, 0.3), 0px 1px 3px 1px rgba(60, 64, 67, 0.15);\n",
              "      fill: #174EA6;\n",
              "    }\n",
              "\n",
              "    [theme=dark] .colab-df-convert {\n",
              "      background-color: #3B4455;\n",
              "      fill: #D2E3FC;\n",
              "    }\n",
              "\n",
              "    [theme=dark] .colab-df-convert:hover {\n",
              "      background-color: #434B5C;\n",
              "      box-shadow: 0px 1px 3px 1px rgba(0, 0, 0, 0.15);\n",
              "      filter: drop-shadow(0px 1px 2px rgba(0, 0, 0, 0.3));\n",
              "      fill: #FFFFFF;\n",
              "    }\n",
              "  </style>\n",
              "\n",
              "      <script>\n",
              "        const buttonEl =\n",
              "          document.querySelector('#df-3d4be2be-2849-4f55-a1c9-c4b80e3363c7 button.colab-df-convert');\n",
              "        buttonEl.style.display =\n",
              "          google.colab.kernel.accessAllowed ? 'block' : 'none';\n",
              "\n",
              "        async function convertToInteractive(key) {\n",
              "          const element = document.querySelector('#df-3d4be2be-2849-4f55-a1c9-c4b80e3363c7');\n",
              "          const dataTable =\n",
              "            await google.colab.kernel.invokeFunction('convertToInteractive',\n",
              "                                                     [key], {});\n",
              "          if (!dataTable) return;\n",
              "\n",
              "          const docLinkHtml = 'Like what you see? Visit the ' +\n",
              "            '<a target=\"_blank\" href=https://colab.research.google.com/notebooks/data_table.ipynb>data table notebook</a>'\n",
              "            + ' to learn more about interactive tables.';\n",
              "          element.innerHTML = '';\n",
              "          dataTable['output_type'] = 'display_data';\n",
              "          await google.colab.output.renderOutput(dataTable, element);\n",
              "          const docLink = document.createElement('div');\n",
              "          docLink.innerHTML = docLinkHtml;\n",
              "          element.appendChild(docLink);\n",
              "        }\n",
              "      </script>\n",
              "    </div>\n",
              "  </div>\n",
              "  "
            ]
          },
          "metadata": {},
          "execution_count": 97
        }
      ]
    },
    {
      "cell_type": "code",
      "source": [
        "df.groupby('loan_status')['mort_acc'].describe()"
      ],
      "metadata": {
        "colab": {
          "base_uri": "https://localhost:8080/",
          "height": 143
        },
        "id": "DK1Kv6tqOZ-F",
        "outputId": "113c3efd-ff46-4b53-d567-21c46c5d0125"
      },
      "execution_count": null,
      "outputs": [
        {
          "output_type": "execute_result",
          "data": {
            "text/plain": [
              "                count      mean       std  min  25%  50%  75%   max\n",
              "loan_status                                                        \n",
              "0             44574.0  1.240634  1.669297  0.0  0.0  1.0  2.0  19.0\n",
              "1            308595.0  1.530896  1.816901  0.0  0.0  1.0  2.0  37.0"
            ],
            "text/html": [
              "\n",
              "  <div id=\"df-2bb3955e-a958-4129-9bd0-c66a2f0659aa\">\n",
              "    <div class=\"colab-df-container\">\n",
              "      <div>\n",
              "<style scoped>\n",
              "    .dataframe tbody tr th:only-of-type {\n",
              "        vertical-align: middle;\n",
              "    }\n",
              "\n",
              "    .dataframe tbody tr th {\n",
              "        vertical-align: top;\n",
              "    }\n",
              "\n",
              "    .dataframe thead th {\n",
              "        text-align: right;\n",
              "    }\n",
              "</style>\n",
              "<table border=\"1\" class=\"dataframe\">\n",
              "  <thead>\n",
              "    <tr style=\"text-align: right;\">\n",
              "      <th></th>\n",
              "      <th>count</th>\n",
              "      <th>mean</th>\n",
              "      <th>std</th>\n",
              "      <th>min</th>\n",
              "      <th>25%</th>\n",
              "      <th>50%</th>\n",
              "      <th>75%</th>\n",
              "      <th>max</th>\n",
              "    </tr>\n",
              "    <tr>\n",
              "      <th>loan_status</th>\n",
              "      <th></th>\n",
              "      <th></th>\n",
              "      <th></th>\n",
              "      <th></th>\n",
              "      <th></th>\n",
              "      <th></th>\n",
              "      <th></th>\n",
              "      <th></th>\n",
              "    </tr>\n",
              "  </thead>\n",
              "  <tbody>\n",
              "    <tr>\n",
              "      <th>0</th>\n",
              "      <td>44574.0</td>\n",
              "      <td>1.240634</td>\n",
              "      <td>1.669297</td>\n",
              "      <td>0.0</td>\n",
              "      <td>0.0</td>\n",
              "      <td>1.0</td>\n",
              "      <td>2.0</td>\n",
              "      <td>19.0</td>\n",
              "    </tr>\n",
              "    <tr>\n",
              "      <th>1</th>\n",
              "      <td>308595.0</td>\n",
              "      <td>1.530896</td>\n",
              "      <td>1.816901</td>\n",
              "      <td>0.0</td>\n",
              "      <td>0.0</td>\n",
              "      <td>1.0</td>\n",
              "      <td>2.0</td>\n",
              "      <td>37.0</td>\n",
              "    </tr>\n",
              "  </tbody>\n",
              "</table>\n",
              "</div>\n",
              "      <button class=\"colab-df-convert\" onclick=\"convertToInteractive('df-2bb3955e-a958-4129-9bd0-c66a2f0659aa')\"\n",
              "              title=\"Convert this dataframe to an interactive table.\"\n",
              "              style=\"display:none;\">\n",
              "        \n",
              "  <svg xmlns=\"http://www.w3.org/2000/svg\" height=\"24px\"viewBox=\"0 0 24 24\"\n",
              "       width=\"24px\">\n",
              "    <path d=\"M0 0h24v24H0V0z\" fill=\"none\"/>\n",
              "    <path d=\"M18.56 5.44l.94 2.06.94-2.06 2.06-.94-2.06-.94-.94-2.06-.94 2.06-2.06.94zm-11 1L8.5 8.5l.94-2.06 2.06-.94-2.06-.94L8.5 2.5l-.94 2.06-2.06.94zm10 10l.94 2.06.94-2.06 2.06-.94-2.06-.94-.94-2.06-.94 2.06-2.06.94z\"/><path d=\"M17.41 7.96l-1.37-1.37c-.4-.4-.92-.59-1.43-.59-.52 0-1.04.2-1.43.59L10.3 9.45l-7.72 7.72c-.78.78-.78 2.05 0 2.83L4 21.41c.39.39.9.59 1.41.59.51 0 1.02-.2 1.41-.59l7.78-7.78 2.81-2.81c.8-.78.8-2.07 0-2.86zM5.41 20L4 18.59l7.72-7.72 1.47 1.35L5.41 20z\"/>\n",
              "  </svg>\n",
              "      </button>\n",
              "      \n",
              "  <style>\n",
              "    .colab-df-container {\n",
              "      display:flex;\n",
              "      flex-wrap:wrap;\n",
              "      gap: 12px;\n",
              "    }\n",
              "\n",
              "    .colab-df-convert {\n",
              "      background-color: #E8F0FE;\n",
              "      border: none;\n",
              "      border-radius: 50%;\n",
              "      cursor: pointer;\n",
              "      display: none;\n",
              "      fill: #1967D2;\n",
              "      height: 32px;\n",
              "      padding: 0 0 0 0;\n",
              "      width: 32px;\n",
              "    }\n",
              "\n",
              "    .colab-df-convert:hover {\n",
              "      background-color: #E2EBFA;\n",
              "      box-shadow: 0px 1px 2px rgba(60, 64, 67, 0.3), 0px 1px 3px 1px rgba(60, 64, 67, 0.15);\n",
              "      fill: #174EA6;\n",
              "    }\n",
              "\n",
              "    [theme=dark] .colab-df-convert {\n",
              "      background-color: #3B4455;\n",
              "      fill: #D2E3FC;\n",
              "    }\n",
              "\n",
              "    [theme=dark] .colab-df-convert:hover {\n",
              "      background-color: #434B5C;\n",
              "      box-shadow: 0px 1px 3px 1px rgba(0, 0, 0, 0.15);\n",
              "      filter: drop-shadow(0px 1px 2px rgba(0, 0, 0, 0.3));\n",
              "      fill: #FFFFFF;\n",
              "    }\n",
              "  </style>\n",
              "\n",
              "      <script>\n",
              "        const buttonEl =\n",
              "          document.querySelector('#df-2bb3955e-a958-4129-9bd0-c66a2f0659aa button.colab-df-convert');\n",
              "        buttonEl.style.display =\n",
              "          google.colab.kernel.accessAllowed ? 'block' : 'none';\n",
              "\n",
              "        async function convertToInteractive(key) {\n",
              "          const element = document.querySelector('#df-2bb3955e-a958-4129-9bd0-c66a2f0659aa');\n",
              "          const dataTable =\n",
              "            await google.colab.kernel.invokeFunction('convertToInteractive',\n",
              "                                                     [key], {});\n",
              "          if (!dataTable) return;\n",
              "\n",
              "          const docLinkHtml = 'Like what you see? Visit the ' +\n",
              "            '<a target=\"_blank\" href=https://colab.research.google.com/notebooks/data_table.ipynb>data table notebook</a>'\n",
              "            + ' to learn more about interactive tables.';\n",
              "          element.innerHTML = '';\n",
              "          dataTable['output_type'] = 'display_data';\n",
              "          await google.colab.output.renderOutput(dataTable, element);\n",
              "          const docLink = document.createElement('div');\n",
              "          docLink.innerHTML = docLinkHtml;\n",
              "          element.appendChild(docLink);\n",
              "        }\n",
              "      </script>\n",
              "    </div>\n",
              "  </div>\n",
              "  "
            ]
          },
          "metadata": {},
          "execution_count": 98
        }
      ]
    },
    {
      "cell_type": "code",
      "source": [
        "df.columns"
      ],
      "metadata": {
        "colab": {
          "base_uri": "https://localhost:8080/"
        },
        "id": "Kb4EQTuWOgpF",
        "outputId": "fc088087-4ee3-45b4-c9b6-860635d439d4"
      },
      "execution_count": null,
      "outputs": [
        {
          "output_type": "execute_result",
          "data": {
            "text/plain": [
              "Index(['funded_amnt', 'term', 'int_rate', 'installment', 'emp_length',\n",
              "       'home_ownership', 'annual_inc', 'loan_status', 'purpose', 'dti',\n",
              "       'delinq_2yrs', 'earliest_cr_line', 'fico_range_high', 'inq_last_6mths',\n",
              "       'open_acc', 'revol_bal', 'revol_util', 'total_acc', 'application_type',\n",
              "       'open_act_il', 'open_il_24m', 'il_util', 'open_rv_24m', 'all_util',\n",
              "       'bc_open_to_buy', 'bc_util', 'mort_acc', 'num_tl_90g_dpd_24m',\n",
              "       'pct_tl_nvr_dlq', 'pub_rec_bankruptcies'],\n",
              "      dtype='object')"
            ]
          },
          "metadata": {},
          "execution_count": 99
        }
      ]
    },
    {
      "cell_type": "code",
      "source": [
        "df['term']=df['term'].apply(lambda x: 36 if x== '36 months' else 60)"
      ],
      "metadata": {
        "id": "5c260jVOOlTR"
      },
      "execution_count": null,
      "outputs": []
    },
    {
      "cell_type": "code",
      "source": [
        "df.info()"
      ],
      "metadata": {
        "colab": {
          "base_uri": "https://localhost:8080/"
        },
        "id": "psz2uI8HOpMN",
        "outputId": "958aafe1-b8db-4213-84bf-d4ce5065703e"
      },
      "execution_count": null,
      "outputs": [
        {
          "output_type": "stream",
          "name": "stdout",
          "text": [
            "<class 'pandas.core.frame.DataFrame'>\n",
            "Int64Index: 353169 entries, 0 to 438990\n",
            "Data columns (total 30 columns):\n",
            " #   Column                Non-Null Count   Dtype  \n",
            "---  ------                --------------   -----  \n",
            " 0   funded_amnt           353169 non-null  int64  \n",
            " 1   term                  353169 non-null  int64  \n",
            " 2   int_rate              353169 non-null  object \n",
            " 3   installment           353169 non-null  float64\n",
            " 4   emp_length            353169 non-null  object \n",
            " 5   home_ownership        353169 non-null  object \n",
            " 6   annual_inc            353169 non-null  float64\n",
            " 7   loan_status           353169 non-null  int64  \n",
            " 8   purpose               353169 non-null  object \n",
            " 9   dti                   353169 non-null  float64\n",
            " 10  delinq_2yrs           353169 non-null  int64  \n",
            " 11  earliest_cr_line      353169 non-null  object \n",
            " 12  fico_range_high       353169 non-null  int64  \n",
            " 13  inq_last_6mths        353169 non-null  float64\n",
            " 14  open_acc              353169 non-null  int64  \n",
            " 15  revol_bal             353169 non-null  int64  \n",
            " 16  revol_util            353169 non-null  object \n",
            " 17  total_acc             353169 non-null  int64  \n",
            " 18  application_type      353169 non-null  object \n",
            " 19  open_act_il           353169 non-null  float64\n",
            " 20  open_il_24m           353169 non-null  float64\n",
            " 21  il_util               353169 non-null  float64\n",
            " 22  open_rv_24m           353169 non-null  float64\n",
            " 23  all_util              353169 non-null  float64\n",
            " 24  bc_open_to_buy        353169 non-null  float64\n",
            " 25  bc_util               353169 non-null  float64\n",
            " 26  mort_acc              353169 non-null  int64  \n",
            " 27  num_tl_90g_dpd_24m    353169 non-null  int64  \n",
            " 28  pct_tl_nvr_dlq        353169 non-null  float64\n",
            " 29  pub_rec_bankruptcies  353169 non-null  int64  \n",
            "dtypes: float64(12), int64(11), object(7)\n",
            "memory usage: 91.6+ MB\n"
          ]
        }
      ]
    },
    {
      "cell_type": "code",
      "source": [],
      "metadata": {
        "id": "C-tk0zhEOw-k"
      },
      "execution_count": null,
      "outputs": []
    },
    {
      "cell_type": "code",
      "source": [
        "df_final = pd.get_dummies(df,columns=[\"home_ownership\",'purpose',\"application_type\"])\n",
        "df_final['emp_length'].value_counts()"
      ],
      "metadata": {
        "colab": {
          "base_uri": "https://localhost:8080/"
        },
        "id": "K-yQYBW_O0L-",
        "outputId": "d6c20868-38ad-4033-d15c-2cbe29f9fc82"
      },
      "execution_count": null,
      "outputs": [
        {
          "output_type": "execute_result",
          "data": {
            "text/plain": [
              "10 years    127384\n",
              "2 years      34652\n",
              "0 years      32154\n",
              "3 years      30466\n",
              "1 years      25355\n",
              "5 years      22962\n",
              "4 years      22813\n",
              "6 years      16524\n",
              "9 years      13961\n",
              "8 years      13805\n",
              "7 years      13093\n",
              "Name: emp_length, dtype: int64"
            ]
          },
          "metadata": {},
          "execution_count": 102
        }
      ]
    },
    {
      "cell_type": "code",
      "source": [
        "df_final['int_rate']=(df_final['int_rate'].str.replace(\"%\",'',regex=False)).astype(float)\n",
        "df_final['emp_length']=(df_final['emp_length'].str.replace(\"years\",'',regex=False)).astype(int)\n",
        "df_final=df_final.drop(['earliest_cr_line','revol_util'],axis=1)\n",
        "df_final.info()"
      ],
      "metadata": {
        "colab": {
          "base_uri": "https://localhost:8080/"
        },
        "id": "RMIrt_QIO626",
        "outputId": "7c6e0739-722b-49f2-c79f-a00ebf0a2ba3"
      },
      "execution_count": null,
      "outputs": [
        {
          "output_type": "stream",
          "name": "stdout",
          "text": [
            "<class 'pandas.core.frame.DataFrame'>\n",
            "Int64Index: 353169 entries, 0 to 438990\n",
            "Data columns (total 45 columns):\n",
            " #   Column                       Non-Null Count   Dtype  \n",
            "---  ------                       --------------   -----  \n",
            " 0   funded_amnt                  353169 non-null  int64  \n",
            " 1   term                         353169 non-null  int64  \n",
            " 2   int_rate                     353169 non-null  float64\n",
            " 3   installment                  353169 non-null  float64\n",
            " 4   emp_length                   353169 non-null  int64  \n",
            " 5   annual_inc                   353169 non-null  float64\n",
            " 6   loan_status                  353169 non-null  int64  \n",
            " 7   dti                          353169 non-null  float64\n",
            " 8   delinq_2yrs                  353169 non-null  int64  \n",
            " 9   fico_range_high              353169 non-null  int64  \n",
            " 10  inq_last_6mths               353169 non-null  float64\n",
            " 11  open_acc                     353169 non-null  int64  \n",
            " 12  revol_bal                    353169 non-null  int64  \n",
            " 13  total_acc                    353169 non-null  int64  \n",
            " 14  open_act_il                  353169 non-null  float64\n",
            " 15  open_il_24m                  353169 non-null  float64\n",
            " 16  il_util                      353169 non-null  float64\n",
            " 17  open_rv_24m                  353169 non-null  float64\n",
            " 18  all_util                     353169 non-null  float64\n",
            " 19  bc_open_to_buy               353169 non-null  float64\n",
            " 20  bc_util                      353169 non-null  float64\n",
            " 21  mort_acc                     353169 non-null  int64  \n",
            " 22  num_tl_90g_dpd_24m           353169 non-null  int64  \n",
            " 23  pct_tl_nvr_dlq               353169 non-null  float64\n",
            " 24  pub_rec_bankruptcies         353169 non-null  int64  \n",
            " 25  home_ownership_ANY           353169 non-null  uint8  \n",
            " 26  home_ownership_MORTGAGE      353169 non-null  uint8  \n",
            " 27  home_ownership_OWN           353169 non-null  uint8  \n",
            " 28  home_ownership_RENT          353169 non-null  uint8  \n",
            " 29  purpose_car                  353169 non-null  uint8  \n",
            " 30  purpose_credit_card          353169 non-null  uint8  \n",
            " 31  purpose_debt_consolidation   353169 non-null  uint8  \n",
            " 32  purpose_educational          353169 non-null  uint8  \n",
            " 33  purpose_home_improvement     353169 non-null  uint8  \n",
            " 34  purpose_house                353169 non-null  uint8  \n",
            " 35  purpose_major_purchase       353169 non-null  uint8  \n",
            " 36  purpose_medical              353169 non-null  uint8  \n",
            " 37  purpose_moving               353169 non-null  uint8  \n",
            " 38  purpose_other                353169 non-null  uint8  \n",
            " 39  purpose_renewable_energy     353169 non-null  uint8  \n",
            " 40  purpose_small_business       353169 non-null  uint8  \n",
            " 41  purpose_vacation             353169 non-null  uint8  \n",
            " 42  purpose_wedding              353169 non-null  uint8  \n",
            " 43  application_type_Individual  353169 non-null  uint8  \n",
            " 44  application_type_Joint App   353169 non-null  uint8  \n",
            "dtypes: float64(13), int64(12), uint8(20)\n",
            "memory usage: 84.9 MB\n"
          ]
        }
      ]
    },
    {
      "cell_type": "code",
      "source": [
        "df_final.describe(percentiles=[.25, .5, .75, .90, .95, .99])"
      ],
      "metadata": {
        "colab": {
          "base_uri": "https://localhost:8080/",
          "height": 505
        },
        "id": "7Oxzq5LSPCw0",
        "outputId": "2e1b6810-7a7a-412a-d52b-dded6f33fc19"
      },
      "execution_count": null,
      "outputs": [
        {
          "output_type": "execute_result",
          "data": {
            "text/plain": [
              "         funded_amnt      term       int_rate    installment     emp_length  \\\n",
              "count  353169.000000  353169.0  353169.000000  353169.000000  353169.000000   \n",
              "mean    15056.253805      60.0      13.189845     450.181812       5.925897   \n",
              "std      9325.230497       0.0       5.107614     277.412211       3.749245   \n",
              "min      1000.000000      60.0       5.320000       6.680000       0.000000   \n",
              "25%      8000.000000      60.0       9.490000     248.480000       2.000000   \n",
              "50%     12800.000000      60.0      12.620000     377.600000       6.000000   \n",
              "75%     20000.000000      60.0      15.990000     602.300000      10.000000   \n",
              "90%     30000.000000      60.0      19.990000     846.984000      10.000000   \n",
              "95%     35000.000000      60.0      23.880000    1025.310000      10.000000   \n",
              "99%     40000.000000      60.0      29.690000    1265.160000      10.000000   \n",
              "max     40000.000000      60.0      30.990000    1719.830000      10.000000   \n",
              "\n",
              "         annual_inc    loan_status            dti    delinq_2yrs  \\\n",
              "count  3.531690e+05  353169.000000  353169.000000  353169.000000   \n",
              "mean   8.313554e+04       0.873788      19.835278       0.356328   \n",
              "std    8.592030e+04       0.332088      10.770653       0.950188   \n",
              "min    2.500000e+01       0.000000      -1.000000       0.000000   \n",
              "25%    5.000000e+04       1.000000      13.410000       0.000000   \n",
              "50%    7.000000e+04       1.000000      19.000000       0.000000   \n",
              "75%    1.000000e+05       1.000000      25.340000       0.000000   \n",
              "90%    1.383776e+05       1.000000      30.870000       1.000000   \n",
              "95%    1.720000e+05       1.000000      33.780000       2.000000   \n",
              "99%    2.920000e+05       1.000000      42.833200       4.000000   \n",
              "max    1.099920e+07       1.000000     999.000000      30.000000   \n",
              "\n",
              "       fico_range_high  ...  purpose_major_purchase  purpose_medical  \\\n",
              "count    353169.000000  ...           353169.000000    353169.000000   \n",
              "mean        701.666115  ...                0.023193         0.013622   \n",
              "std          32.477742  ...                0.150516         0.115917   \n",
              "min         664.000000  ...                0.000000         0.000000   \n",
              "25%         674.000000  ...                0.000000         0.000000   \n",
              "50%         694.000000  ...                0.000000         0.000000   \n",
              "75%         719.000000  ...                0.000000         0.000000   \n",
              "90%         744.000000  ...                0.000000         0.000000   \n",
              "95%         769.000000  ...                0.000000         0.000000   \n",
              "99%         804.000000  ...                1.000000         1.000000   \n",
              "max         850.000000  ...                1.000000         1.000000   \n",
              "\n",
              "       purpose_moving  purpose_other  purpose_renewable_energy  \\\n",
              "count   353169.000000  353169.000000             353169.000000   \n",
              "mean         0.007999       0.067248                  0.000654   \n",
              "std          0.089079       0.250452                  0.025567   \n",
              "min          0.000000       0.000000                  0.000000   \n",
              "25%          0.000000       0.000000                  0.000000   \n",
              "50%          0.000000       0.000000                  0.000000   \n",
              "75%          0.000000       0.000000                  0.000000   \n",
              "90%          0.000000       0.000000                  0.000000   \n",
              "95%          0.000000       1.000000                  0.000000   \n",
              "99%          0.000000       1.000000                  0.000000   \n",
              "max          1.000000       1.000000                  1.000000   \n",
              "\n",
              "       purpose_small_business  purpose_vacation  purpose_wedding  \\\n",
              "count           353169.000000     353169.000000    353169.000000   \n",
              "mean                 0.011159          0.007979         0.000003   \n",
              "std                  0.105045          0.088969         0.001683   \n",
              "min                  0.000000          0.000000         0.000000   \n",
              "25%                  0.000000          0.000000         0.000000   \n",
              "50%                  0.000000          0.000000         0.000000   \n",
              "75%                  0.000000          0.000000         0.000000   \n",
              "90%                  0.000000          0.000000         0.000000   \n",
              "95%                  0.000000          0.000000         0.000000   \n",
              "99%                  1.000000          0.000000         0.000000   \n",
              "max                  1.000000          1.000000         1.000000   \n",
              "\n",
              "       application_type_Individual  application_type_Joint App  \n",
              "count                353169.000000               353169.000000  \n",
              "mean                      0.946247                    0.053753  \n",
              "std                       0.225531                    0.225531  \n",
              "min                       0.000000                    0.000000  \n",
              "25%                       1.000000                    0.000000  \n",
              "50%                       1.000000                    0.000000  \n",
              "75%                       1.000000                    0.000000  \n",
              "90%                       1.000000                    0.000000  \n",
              "95%                       1.000000                    1.000000  \n",
              "99%                       1.000000                    1.000000  \n",
              "max                       1.000000                    1.000000  \n",
              "\n",
              "[11 rows x 45 columns]"
            ],
            "text/html": [
              "\n",
              "  <div id=\"df-2d4b3b3e-20b4-4b0a-b8df-f2a204313e16\">\n",
              "    <div class=\"colab-df-container\">\n",
              "      <div>\n",
              "<style scoped>\n",
              "    .dataframe tbody tr th:only-of-type {\n",
              "        vertical-align: middle;\n",
              "    }\n",
              "\n",
              "    .dataframe tbody tr th {\n",
              "        vertical-align: top;\n",
              "    }\n",
              "\n",
              "    .dataframe thead th {\n",
              "        text-align: right;\n",
              "    }\n",
              "</style>\n",
              "<table border=\"1\" class=\"dataframe\">\n",
              "  <thead>\n",
              "    <tr style=\"text-align: right;\">\n",
              "      <th></th>\n",
              "      <th>funded_amnt</th>\n",
              "      <th>term</th>\n",
              "      <th>int_rate</th>\n",
              "      <th>installment</th>\n",
              "      <th>emp_length</th>\n",
              "      <th>annual_inc</th>\n",
              "      <th>loan_status</th>\n",
              "      <th>dti</th>\n",
              "      <th>delinq_2yrs</th>\n",
              "      <th>fico_range_high</th>\n",
              "      <th>...</th>\n",
              "      <th>purpose_major_purchase</th>\n",
              "      <th>purpose_medical</th>\n",
              "      <th>purpose_moving</th>\n",
              "      <th>purpose_other</th>\n",
              "      <th>purpose_renewable_energy</th>\n",
              "      <th>purpose_small_business</th>\n",
              "      <th>purpose_vacation</th>\n",
              "      <th>purpose_wedding</th>\n",
              "      <th>application_type_Individual</th>\n",
              "      <th>application_type_Joint App</th>\n",
              "    </tr>\n",
              "  </thead>\n",
              "  <tbody>\n",
              "    <tr>\n",
              "      <th>count</th>\n",
              "      <td>353169.000000</td>\n",
              "      <td>353169.0</td>\n",
              "      <td>353169.000000</td>\n",
              "      <td>353169.000000</td>\n",
              "      <td>353169.000000</td>\n",
              "      <td>3.531690e+05</td>\n",
              "      <td>353169.000000</td>\n",
              "      <td>353169.000000</td>\n",
              "      <td>353169.000000</td>\n",
              "      <td>353169.000000</td>\n",
              "      <td>...</td>\n",
              "      <td>353169.000000</td>\n",
              "      <td>353169.000000</td>\n",
              "      <td>353169.000000</td>\n",
              "      <td>353169.000000</td>\n",
              "      <td>353169.000000</td>\n",
              "      <td>353169.000000</td>\n",
              "      <td>353169.000000</td>\n",
              "      <td>353169.000000</td>\n",
              "      <td>353169.000000</td>\n",
              "      <td>353169.000000</td>\n",
              "    </tr>\n",
              "    <tr>\n",
              "      <th>mean</th>\n",
              "      <td>15056.253805</td>\n",
              "      <td>60.0</td>\n",
              "      <td>13.189845</td>\n",
              "      <td>450.181812</td>\n",
              "      <td>5.925897</td>\n",
              "      <td>8.313554e+04</td>\n",
              "      <td>0.873788</td>\n",
              "      <td>19.835278</td>\n",
              "      <td>0.356328</td>\n",
              "      <td>701.666115</td>\n",
              "      <td>...</td>\n",
              "      <td>0.023193</td>\n",
              "      <td>0.013622</td>\n",
              "      <td>0.007999</td>\n",
              "      <td>0.067248</td>\n",
              "      <td>0.000654</td>\n",
              "      <td>0.011159</td>\n",
              "      <td>0.007979</td>\n",
              "      <td>0.000003</td>\n",
              "      <td>0.946247</td>\n",
              "      <td>0.053753</td>\n",
              "    </tr>\n",
              "    <tr>\n",
              "      <th>std</th>\n",
              "      <td>9325.230497</td>\n",
              "      <td>0.0</td>\n",
              "      <td>5.107614</td>\n",
              "      <td>277.412211</td>\n",
              "      <td>3.749245</td>\n",
              "      <td>8.592030e+04</td>\n",
              "      <td>0.332088</td>\n",
              "      <td>10.770653</td>\n",
              "      <td>0.950188</td>\n",
              "      <td>32.477742</td>\n",
              "      <td>...</td>\n",
              "      <td>0.150516</td>\n",
              "      <td>0.115917</td>\n",
              "      <td>0.089079</td>\n",
              "      <td>0.250452</td>\n",
              "      <td>0.025567</td>\n",
              "      <td>0.105045</td>\n",
              "      <td>0.088969</td>\n",
              "      <td>0.001683</td>\n",
              "      <td>0.225531</td>\n",
              "      <td>0.225531</td>\n",
              "    </tr>\n",
              "    <tr>\n",
              "      <th>min</th>\n",
              "      <td>1000.000000</td>\n",
              "      <td>60.0</td>\n",
              "      <td>5.320000</td>\n",
              "      <td>6.680000</td>\n",
              "      <td>0.000000</td>\n",
              "      <td>2.500000e+01</td>\n",
              "      <td>0.000000</td>\n",
              "      <td>-1.000000</td>\n",
              "      <td>0.000000</td>\n",
              "      <td>664.000000</td>\n",
              "      <td>...</td>\n",
              "      <td>0.000000</td>\n",
              "      <td>0.000000</td>\n",
              "      <td>0.000000</td>\n",
              "      <td>0.000000</td>\n",
              "      <td>0.000000</td>\n",
              "      <td>0.000000</td>\n",
              "      <td>0.000000</td>\n",
              "      <td>0.000000</td>\n",
              "      <td>0.000000</td>\n",
              "      <td>0.000000</td>\n",
              "    </tr>\n",
              "    <tr>\n",
              "      <th>25%</th>\n",
              "      <td>8000.000000</td>\n",
              "      <td>60.0</td>\n",
              "      <td>9.490000</td>\n",
              "      <td>248.480000</td>\n",
              "      <td>2.000000</td>\n",
              "      <td>5.000000e+04</td>\n",
              "      <td>1.000000</td>\n",
              "      <td>13.410000</td>\n",
              "      <td>0.000000</td>\n",
              "      <td>674.000000</td>\n",
              "      <td>...</td>\n",
              "      <td>0.000000</td>\n",
              "      <td>0.000000</td>\n",
              "      <td>0.000000</td>\n",
              "      <td>0.000000</td>\n",
              "      <td>0.000000</td>\n",
              "      <td>0.000000</td>\n",
              "      <td>0.000000</td>\n",
              "      <td>0.000000</td>\n",
              "      <td>1.000000</td>\n",
              "      <td>0.000000</td>\n",
              "    </tr>\n",
              "    <tr>\n",
              "      <th>50%</th>\n",
              "      <td>12800.000000</td>\n",
              "      <td>60.0</td>\n",
              "      <td>12.620000</td>\n",
              "      <td>377.600000</td>\n",
              "      <td>6.000000</td>\n",
              "      <td>7.000000e+04</td>\n",
              "      <td>1.000000</td>\n",
              "      <td>19.000000</td>\n",
              "      <td>0.000000</td>\n",
              "      <td>694.000000</td>\n",
              "      <td>...</td>\n",
              "      <td>0.000000</td>\n",
              "      <td>0.000000</td>\n",
              "      <td>0.000000</td>\n",
              "      <td>0.000000</td>\n",
              "      <td>0.000000</td>\n",
              "      <td>0.000000</td>\n",
              "      <td>0.000000</td>\n",
              "      <td>0.000000</td>\n",
              "      <td>1.000000</td>\n",
              "      <td>0.000000</td>\n",
              "    </tr>\n",
              "    <tr>\n",
              "      <th>75%</th>\n",
              "      <td>20000.000000</td>\n",
              "      <td>60.0</td>\n",
              "      <td>15.990000</td>\n",
              "      <td>602.300000</td>\n",
              "      <td>10.000000</td>\n",
              "      <td>1.000000e+05</td>\n",
              "      <td>1.000000</td>\n",
              "      <td>25.340000</td>\n",
              "      <td>0.000000</td>\n",
              "      <td>719.000000</td>\n",
              "      <td>...</td>\n",
              "      <td>0.000000</td>\n",
              "      <td>0.000000</td>\n",
              "      <td>0.000000</td>\n",
              "      <td>0.000000</td>\n",
              "      <td>0.000000</td>\n",
              "      <td>0.000000</td>\n",
              "      <td>0.000000</td>\n",
              "      <td>0.000000</td>\n",
              "      <td>1.000000</td>\n",
              "      <td>0.000000</td>\n",
              "    </tr>\n",
              "    <tr>\n",
              "      <th>90%</th>\n",
              "      <td>30000.000000</td>\n",
              "      <td>60.0</td>\n",
              "      <td>19.990000</td>\n",
              "      <td>846.984000</td>\n",
              "      <td>10.000000</td>\n",
              "      <td>1.383776e+05</td>\n",
              "      <td>1.000000</td>\n",
              "      <td>30.870000</td>\n",
              "      <td>1.000000</td>\n",
              "      <td>744.000000</td>\n",
              "      <td>...</td>\n",
              "      <td>0.000000</td>\n",
              "      <td>0.000000</td>\n",
              "      <td>0.000000</td>\n",
              "      <td>0.000000</td>\n",
              "      <td>0.000000</td>\n",
              "      <td>0.000000</td>\n",
              "      <td>0.000000</td>\n",
              "      <td>0.000000</td>\n",
              "      <td>1.000000</td>\n",
              "      <td>0.000000</td>\n",
              "    </tr>\n",
              "    <tr>\n",
              "      <th>95%</th>\n",
              "      <td>35000.000000</td>\n",
              "      <td>60.0</td>\n",
              "      <td>23.880000</td>\n",
              "      <td>1025.310000</td>\n",
              "      <td>10.000000</td>\n",
              "      <td>1.720000e+05</td>\n",
              "      <td>1.000000</td>\n",
              "      <td>33.780000</td>\n",
              "      <td>2.000000</td>\n",
              "      <td>769.000000</td>\n",
              "      <td>...</td>\n",
              "      <td>0.000000</td>\n",
              "      <td>0.000000</td>\n",
              "      <td>0.000000</td>\n",
              "      <td>1.000000</td>\n",
              "      <td>0.000000</td>\n",
              "      <td>0.000000</td>\n",
              "      <td>0.000000</td>\n",
              "      <td>0.000000</td>\n",
              "      <td>1.000000</td>\n",
              "      <td>1.000000</td>\n",
              "    </tr>\n",
              "    <tr>\n",
              "      <th>99%</th>\n",
              "      <td>40000.000000</td>\n",
              "      <td>60.0</td>\n",
              "      <td>29.690000</td>\n",
              "      <td>1265.160000</td>\n",
              "      <td>10.000000</td>\n",
              "      <td>2.920000e+05</td>\n",
              "      <td>1.000000</td>\n",
              "      <td>42.833200</td>\n",
              "      <td>4.000000</td>\n",
              "      <td>804.000000</td>\n",
              "      <td>...</td>\n",
              "      <td>1.000000</td>\n",
              "      <td>1.000000</td>\n",
              "      <td>0.000000</td>\n",
              "      <td>1.000000</td>\n",
              "      <td>0.000000</td>\n",
              "      <td>1.000000</td>\n",
              "      <td>0.000000</td>\n",
              "      <td>0.000000</td>\n",
              "      <td>1.000000</td>\n",
              "      <td>1.000000</td>\n",
              "    </tr>\n",
              "    <tr>\n",
              "      <th>max</th>\n",
              "      <td>40000.000000</td>\n",
              "      <td>60.0</td>\n",
              "      <td>30.990000</td>\n",
              "      <td>1719.830000</td>\n",
              "      <td>10.000000</td>\n",
              "      <td>1.099920e+07</td>\n",
              "      <td>1.000000</td>\n",
              "      <td>999.000000</td>\n",
              "      <td>30.000000</td>\n",
              "      <td>850.000000</td>\n",
              "      <td>...</td>\n",
              "      <td>1.000000</td>\n",
              "      <td>1.000000</td>\n",
              "      <td>1.000000</td>\n",
              "      <td>1.000000</td>\n",
              "      <td>1.000000</td>\n",
              "      <td>1.000000</td>\n",
              "      <td>1.000000</td>\n",
              "      <td>1.000000</td>\n",
              "      <td>1.000000</td>\n",
              "      <td>1.000000</td>\n",
              "    </tr>\n",
              "  </tbody>\n",
              "</table>\n",
              "<p>11 rows × 45 columns</p>\n",
              "</div>\n",
              "      <button class=\"colab-df-convert\" onclick=\"convertToInteractive('df-2d4b3b3e-20b4-4b0a-b8df-f2a204313e16')\"\n",
              "              title=\"Convert this dataframe to an interactive table.\"\n",
              "              style=\"display:none;\">\n",
              "        \n",
              "  <svg xmlns=\"http://www.w3.org/2000/svg\" height=\"24px\"viewBox=\"0 0 24 24\"\n",
              "       width=\"24px\">\n",
              "    <path d=\"M0 0h24v24H0V0z\" fill=\"none\"/>\n",
              "    <path d=\"M18.56 5.44l.94 2.06.94-2.06 2.06-.94-2.06-.94-.94-2.06-.94 2.06-2.06.94zm-11 1L8.5 8.5l.94-2.06 2.06-.94-2.06-.94L8.5 2.5l-.94 2.06-2.06.94zm10 10l.94 2.06.94-2.06 2.06-.94-2.06-.94-.94-2.06-.94 2.06-2.06.94z\"/><path d=\"M17.41 7.96l-1.37-1.37c-.4-.4-.92-.59-1.43-.59-.52 0-1.04.2-1.43.59L10.3 9.45l-7.72 7.72c-.78.78-.78 2.05 0 2.83L4 21.41c.39.39.9.59 1.41.59.51 0 1.02-.2 1.41-.59l7.78-7.78 2.81-2.81c.8-.78.8-2.07 0-2.86zM5.41 20L4 18.59l7.72-7.72 1.47 1.35L5.41 20z\"/>\n",
              "  </svg>\n",
              "      </button>\n",
              "      \n",
              "  <style>\n",
              "    .colab-df-container {\n",
              "      display:flex;\n",
              "      flex-wrap:wrap;\n",
              "      gap: 12px;\n",
              "    }\n",
              "\n",
              "    .colab-df-convert {\n",
              "      background-color: #E8F0FE;\n",
              "      border: none;\n",
              "      border-radius: 50%;\n",
              "      cursor: pointer;\n",
              "      display: none;\n",
              "      fill: #1967D2;\n",
              "      height: 32px;\n",
              "      padding: 0 0 0 0;\n",
              "      width: 32px;\n",
              "    }\n",
              "\n",
              "    .colab-df-convert:hover {\n",
              "      background-color: #E2EBFA;\n",
              "      box-shadow: 0px 1px 2px rgba(60, 64, 67, 0.3), 0px 1px 3px 1px rgba(60, 64, 67, 0.15);\n",
              "      fill: #174EA6;\n",
              "    }\n",
              "\n",
              "    [theme=dark] .colab-df-convert {\n",
              "      background-color: #3B4455;\n",
              "      fill: #D2E3FC;\n",
              "    }\n",
              "\n",
              "    [theme=dark] .colab-df-convert:hover {\n",
              "      background-color: #434B5C;\n",
              "      box-shadow: 0px 1px 3px 1px rgba(0, 0, 0, 0.15);\n",
              "      filter: drop-shadow(0px 1px 2px rgba(0, 0, 0, 0.3));\n",
              "      fill: #FFFFFF;\n",
              "    }\n",
              "  </style>\n",
              "\n",
              "      <script>\n",
              "        const buttonEl =\n",
              "          document.querySelector('#df-2d4b3b3e-20b4-4b0a-b8df-f2a204313e16 button.colab-df-convert');\n",
              "        buttonEl.style.display =\n",
              "          google.colab.kernel.accessAllowed ? 'block' : 'none';\n",
              "\n",
              "        async function convertToInteractive(key) {\n",
              "          const element = document.querySelector('#df-2d4b3b3e-20b4-4b0a-b8df-f2a204313e16');\n",
              "          const dataTable =\n",
              "            await google.colab.kernel.invokeFunction('convertToInteractive',\n",
              "                                                     [key], {});\n",
              "          if (!dataTable) return;\n",
              "\n",
              "          const docLinkHtml = 'Like what you see? Visit the ' +\n",
              "            '<a target=\"_blank\" href=https://colab.research.google.com/notebooks/data_table.ipynb>data table notebook</a>'\n",
              "            + ' to learn more about interactive tables.';\n",
              "          element.innerHTML = '';\n",
              "          dataTable['output_type'] = 'display_data';\n",
              "          await google.colab.output.renderOutput(dataTable, element);\n",
              "          const docLink = document.createElement('div');\n",
              "          docLink.innerHTML = docLinkHtml;\n",
              "          element.appendChild(docLink);\n",
              "        }\n",
              "      </script>\n",
              "    </div>\n",
              "  </div>\n",
              "  "
            ]
          },
          "metadata": {},
          "execution_count": 104
        }
      ]
    },
    {
      "cell_type": "code",
      "source": [
        "from sklearn.model_selection import train_test_split\n",
        "# Putting feature variable to X\n",
        "X = df_final.drop(['loan_status'], axis=1)\n",
        "y=df_final['loan_status']\n",
        "X.head()"
      ],
      "metadata": {
        "colab": {
          "base_uri": "https://localhost:8080/",
          "height": 317
        },
        "id": "5zjpmdTuPG8x",
        "outputId": "afe50986-a3f0-4fbe-cd1f-aa46fcc57615"
      },
      "execution_count": null,
      "outputs": [
        {
          "output_type": "execute_result",
          "data": {
            "text/plain": [
              "   funded_amnt  term  int_rate  installment  emp_length  annual_inc    dti  \\\n",
              "0         1200    60     12.62        40.22          10     60000.0  26.16   \n",
              "1        27825    60     14.08       648.60           0     13000.0  59.83   \n",
              "3        20000    60     15.05       476.33           2    120000.0  18.66   \n",
              "4         5000    60      5.32       150.58           0     30000.0   9.84   \n",
              "5         8000    60     15.05       277.52          10     75000.0  10.77   \n",
              "\n",
              "   delinq_2yrs  fico_range_high  inq_last_6mths  ...  purpose_major_purchase  \\\n",
              "0            0              714             0.0  ...                       0   \n",
              "1            0              744             0.0  ...                       0   \n",
              "3            0              699             0.0  ...                       0   \n",
              "4            0              819             0.0  ...                       0   \n",
              "5            0              699             1.0  ...                       0   \n",
              "\n",
              "   purpose_medical  purpose_moving  purpose_other  purpose_renewable_energy  \\\n",
              "0                0               0              0                         0   \n",
              "1                0               0              0                         0   \n",
              "3                0               0              0                         0   \n",
              "4                0               0              0                         0   \n",
              "5                0               0              1                         0   \n",
              "\n",
              "   purpose_small_business  purpose_vacation  purpose_wedding  \\\n",
              "0                       0                 1                0   \n",
              "1                       0                 0                0   \n",
              "3                       0                 0                0   \n",
              "4                       0                 0                0   \n",
              "5                       0                 0                0   \n",
              "\n",
              "   application_type_Individual  application_type_Joint App  \n",
              "0                            1                           0  \n",
              "1                            0                           1  \n",
              "3                            1                           0  \n",
              "4                            1                           0  \n",
              "5                            1                           0  \n",
              "\n",
              "[5 rows x 44 columns]"
            ],
            "text/html": [
              "\n",
              "  <div id=\"df-7adfa0f5-ec56-46cd-a333-99e27a820f54\">\n",
              "    <div class=\"colab-df-container\">\n",
              "      <div>\n",
              "<style scoped>\n",
              "    .dataframe tbody tr th:only-of-type {\n",
              "        vertical-align: middle;\n",
              "    }\n",
              "\n",
              "    .dataframe tbody tr th {\n",
              "        vertical-align: top;\n",
              "    }\n",
              "\n",
              "    .dataframe thead th {\n",
              "        text-align: right;\n",
              "    }\n",
              "</style>\n",
              "<table border=\"1\" class=\"dataframe\">\n",
              "  <thead>\n",
              "    <tr style=\"text-align: right;\">\n",
              "      <th></th>\n",
              "      <th>funded_amnt</th>\n",
              "      <th>term</th>\n",
              "      <th>int_rate</th>\n",
              "      <th>installment</th>\n",
              "      <th>emp_length</th>\n",
              "      <th>annual_inc</th>\n",
              "      <th>dti</th>\n",
              "      <th>delinq_2yrs</th>\n",
              "      <th>fico_range_high</th>\n",
              "      <th>inq_last_6mths</th>\n",
              "      <th>...</th>\n",
              "      <th>purpose_major_purchase</th>\n",
              "      <th>purpose_medical</th>\n",
              "      <th>purpose_moving</th>\n",
              "      <th>purpose_other</th>\n",
              "      <th>purpose_renewable_energy</th>\n",
              "      <th>purpose_small_business</th>\n",
              "      <th>purpose_vacation</th>\n",
              "      <th>purpose_wedding</th>\n",
              "      <th>application_type_Individual</th>\n",
              "      <th>application_type_Joint App</th>\n",
              "    </tr>\n",
              "  </thead>\n",
              "  <tbody>\n",
              "    <tr>\n",
              "      <th>0</th>\n",
              "      <td>1200</td>\n",
              "      <td>60</td>\n",
              "      <td>12.62</td>\n",
              "      <td>40.22</td>\n",
              "      <td>10</td>\n",
              "      <td>60000.0</td>\n",
              "      <td>26.16</td>\n",
              "      <td>0</td>\n",
              "      <td>714</td>\n",
              "      <td>0.0</td>\n",
              "      <td>...</td>\n",
              "      <td>0</td>\n",
              "      <td>0</td>\n",
              "      <td>0</td>\n",
              "      <td>0</td>\n",
              "      <td>0</td>\n",
              "      <td>0</td>\n",
              "      <td>1</td>\n",
              "      <td>0</td>\n",
              "      <td>1</td>\n",
              "      <td>0</td>\n",
              "    </tr>\n",
              "    <tr>\n",
              "      <th>1</th>\n",
              "      <td>27825</td>\n",
              "      <td>60</td>\n",
              "      <td>14.08</td>\n",
              "      <td>648.60</td>\n",
              "      <td>0</td>\n",
              "      <td>13000.0</td>\n",
              "      <td>59.83</td>\n",
              "      <td>0</td>\n",
              "      <td>744</td>\n",
              "      <td>0.0</td>\n",
              "      <td>...</td>\n",
              "      <td>0</td>\n",
              "      <td>0</td>\n",
              "      <td>0</td>\n",
              "      <td>0</td>\n",
              "      <td>0</td>\n",
              "      <td>0</td>\n",
              "      <td>0</td>\n",
              "      <td>0</td>\n",
              "      <td>0</td>\n",
              "      <td>1</td>\n",
              "    </tr>\n",
              "    <tr>\n",
              "      <th>3</th>\n",
              "      <td>20000</td>\n",
              "      <td>60</td>\n",
              "      <td>15.05</td>\n",
              "      <td>476.33</td>\n",
              "      <td>2</td>\n",
              "      <td>120000.0</td>\n",
              "      <td>18.66</td>\n",
              "      <td>0</td>\n",
              "      <td>699</td>\n",
              "      <td>0.0</td>\n",
              "      <td>...</td>\n",
              "      <td>0</td>\n",
              "      <td>0</td>\n",
              "      <td>0</td>\n",
              "      <td>0</td>\n",
              "      <td>0</td>\n",
              "      <td>0</td>\n",
              "      <td>0</td>\n",
              "      <td>0</td>\n",
              "      <td>1</td>\n",
              "      <td>0</td>\n",
              "    </tr>\n",
              "    <tr>\n",
              "      <th>4</th>\n",
              "      <td>5000</td>\n",
              "      <td>60</td>\n",
              "      <td>5.32</td>\n",
              "      <td>150.58</td>\n",
              "      <td>0</td>\n",
              "      <td>30000.0</td>\n",
              "      <td>9.84</td>\n",
              "      <td>0</td>\n",
              "      <td>819</td>\n",
              "      <td>0.0</td>\n",
              "      <td>...</td>\n",
              "      <td>0</td>\n",
              "      <td>0</td>\n",
              "      <td>0</td>\n",
              "      <td>0</td>\n",
              "      <td>0</td>\n",
              "      <td>0</td>\n",
              "      <td>0</td>\n",
              "      <td>0</td>\n",
              "      <td>1</td>\n",
              "      <td>0</td>\n",
              "    </tr>\n",
              "    <tr>\n",
              "      <th>5</th>\n",
              "      <td>8000</td>\n",
              "      <td>60</td>\n",
              "      <td>15.05</td>\n",
              "      <td>277.52</td>\n",
              "      <td>10</td>\n",
              "      <td>75000.0</td>\n",
              "      <td>10.77</td>\n",
              "      <td>0</td>\n",
              "      <td>699</td>\n",
              "      <td>1.0</td>\n",
              "      <td>...</td>\n",
              "      <td>0</td>\n",
              "      <td>0</td>\n",
              "      <td>0</td>\n",
              "      <td>1</td>\n",
              "      <td>0</td>\n",
              "      <td>0</td>\n",
              "      <td>0</td>\n",
              "      <td>0</td>\n",
              "      <td>1</td>\n",
              "      <td>0</td>\n",
              "    </tr>\n",
              "  </tbody>\n",
              "</table>\n",
              "<p>5 rows × 44 columns</p>\n",
              "</div>\n",
              "      <button class=\"colab-df-convert\" onclick=\"convertToInteractive('df-7adfa0f5-ec56-46cd-a333-99e27a820f54')\"\n",
              "              title=\"Convert this dataframe to an interactive table.\"\n",
              "              style=\"display:none;\">\n",
              "        \n",
              "  <svg xmlns=\"http://www.w3.org/2000/svg\" height=\"24px\"viewBox=\"0 0 24 24\"\n",
              "       width=\"24px\">\n",
              "    <path d=\"M0 0h24v24H0V0z\" fill=\"none\"/>\n",
              "    <path d=\"M18.56 5.44l.94 2.06.94-2.06 2.06-.94-2.06-.94-.94-2.06-.94 2.06-2.06.94zm-11 1L8.5 8.5l.94-2.06 2.06-.94-2.06-.94L8.5 2.5l-.94 2.06-2.06.94zm10 10l.94 2.06.94-2.06 2.06-.94-2.06-.94-.94-2.06-.94 2.06-2.06.94z\"/><path d=\"M17.41 7.96l-1.37-1.37c-.4-.4-.92-.59-1.43-.59-.52 0-1.04.2-1.43.59L10.3 9.45l-7.72 7.72c-.78.78-.78 2.05 0 2.83L4 21.41c.39.39.9.59 1.41.59.51 0 1.02-.2 1.41-.59l7.78-7.78 2.81-2.81c.8-.78.8-2.07 0-2.86zM5.41 20L4 18.59l7.72-7.72 1.47 1.35L5.41 20z\"/>\n",
              "  </svg>\n",
              "      </button>\n",
              "      \n",
              "  <style>\n",
              "    .colab-df-container {\n",
              "      display:flex;\n",
              "      flex-wrap:wrap;\n",
              "      gap: 12px;\n",
              "    }\n",
              "\n",
              "    .colab-df-convert {\n",
              "      background-color: #E8F0FE;\n",
              "      border: none;\n",
              "      border-radius: 50%;\n",
              "      cursor: pointer;\n",
              "      display: none;\n",
              "      fill: #1967D2;\n",
              "      height: 32px;\n",
              "      padding: 0 0 0 0;\n",
              "      width: 32px;\n",
              "    }\n",
              "\n",
              "    .colab-df-convert:hover {\n",
              "      background-color: #E2EBFA;\n",
              "      box-shadow: 0px 1px 2px rgba(60, 64, 67, 0.3), 0px 1px 3px 1px rgba(60, 64, 67, 0.15);\n",
              "      fill: #174EA6;\n",
              "    }\n",
              "\n",
              "    [theme=dark] .colab-df-convert {\n",
              "      background-color: #3B4455;\n",
              "      fill: #D2E3FC;\n",
              "    }\n",
              "\n",
              "    [theme=dark] .colab-df-convert:hover {\n",
              "      background-color: #434B5C;\n",
              "      box-shadow: 0px 1px 3px 1px rgba(0, 0, 0, 0.15);\n",
              "      filter: drop-shadow(0px 1px 2px rgba(0, 0, 0, 0.3));\n",
              "      fill: #FFFFFF;\n",
              "    }\n",
              "  </style>\n",
              "\n",
              "      <script>\n",
              "        const buttonEl =\n",
              "          document.querySelector('#df-7adfa0f5-ec56-46cd-a333-99e27a820f54 button.colab-df-convert');\n",
              "        buttonEl.style.display =\n",
              "          google.colab.kernel.accessAllowed ? 'block' : 'none';\n",
              "\n",
              "        async function convertToInteractive(key) {\n",
              "          const element = document.querySelector('#df-7adfa0f5-ec56-46cd-a333-99e27a820f54');\n",
              "          const dataTable =\n",
              "            await google.colab.kernel.invokeFunction('convertToInteractive',\n",
              "                                                     [key], {});\n",
              "          if (!dataTable) return;\n",
              "\n",
              "          const docLinkHtml = 'Like what you see? Visit the ' +\n",
              "            '<a target=\"_blank\" href=https://colab.research.google.com/notebooks/data_table.ipynb>data table notebook</a>'\n",
              "            + ' to learn more about interactive tables.';\n",
              "          element.innerHTML = '';\n",
              "          dataTable['output_type'] = 'display_data';\n",
              "          await google.colab.output.renderOutput(dataTable, element);\n",
              "          const docLink = document.createElement('div');\n",
              "          docLink.innerHTML = docLinkHtml;\n",
              "          element.appendChild(docLink);\n",
              "        }\n",
              "      </script>\n",
              "    </div>\n",
              "  </div>\n",
              "  "
            ]
          },
          "metadata": {},
          "execution_count": 105
        }
      ]
    },
    {
      "cell_type": "code",
      "source": [
        "X['bc_open_to_buy'].head()"
      ],
      "metadata": {
        "colab": {
          "base_uri": "https://localhost:8080/"
        },
        "id": "kvnw2v6QPK3J",
        "outputId": "b7837eb1-c777-466d-bee1-bcfdc59791d0"
      },
      "execution_count": null,
      "outputs": [
        {
          "output_type": "execute_result",
          "data": {
            "text/plain": [
              "0       89.0\n",
              "1     5914.0\n",
              "3     3184.0\n",
              "4    24388.0\n",
              "5      594.0\n",
              "Name: bc_open_to_buy, dtype: float64"
            ]
          },
          "metadata": {},
          "execution_count": 106
        }
      ]
    },
    {
      "cell_type": "code",
      "source": [
        "from sklearn.model_selection import train_test_split\n",
        "x_train, x_test, y_train, y_test = train_test_split(X, y, train_size=0.7, test_size=0.3, random_state=100)\n",
        "from sklearn.preprocessing import StandardScaler\n",
        "scaler = StandardScaler()\n",
        "\n",
        "x_train[['funded_amnt','term','int_rate','installment','emp_length','annual_inc','dti','delinq_2yrs','fico_range_high','inq_last_6mths','revol_bal','total_acc','open_act_il','open_il_24m','il_util','open_rv_24m','all_util','bc_open_to_buy','bc_util','mort_acc','num_tl_90g_dpd_24m','pct_tl_nvr_dlq','pub_rec_bankruptcies']] = scaler.fit_transform(x_train[['funded_amnt','term','int_rate','installment','emp_length','annual_inc','dti',\n",
        "                                'delinq_2yrs','fico_range_high','inq_last_6mths','revol_bal','total_acc','open_act_il','open_il_24m','il_util','open_rv_24m','all_util',\n",
        "                                'bc_open_to_buy','bc_util','mort_acc','num_tl_90g_dpd_24m','pct_tl_nvr_dlq','pub_rec_bankruptcies']])\n",
        "\n",
        "x_train.head()"
      ],
      "metadata": {
        "colab": {
          "base_uri": "https://localhost:8080/",
          "height": 317
        },
        "id": "RtFCwlkSPQuH",
        "outputId": "74f504e6-f337-4d5c-abe4-20b5df5db970"
      },
      "execution_count": null,
      "outputs": [
        {
          "output_type": "execute_result",
          "data": {
            "text/plain": [
              "        funded_amnt  term  int_rate  installment  emp_length  annual_inc  \\\n",
              "313288    -0.751005   0.0 -1.115302    -0.720179   -1.045343   -0.404548   \n",
              "380529    -0.544804   0.0  0.546083    -0.358562   -0.511957   -0.379355   \n",
              "181120     0.097898   0.0  0.092622    -0.293573    0.821508    0.369987   \n",
              "131469    -0.223453   0.0  0.950679     0.069593   -1.045343   -0.807636   \n",
              "269036    -0.009219   0.0 -1.021483     0.067648   -0.245264   -0.186628   \n",
              "\n",
              "             dti  delinq_2yrs  fico_range_high  inq_last_6mths  ...  \\\n",
              "313288 -0.497913    -0.375468         0.072230       -0.650554  ...   \n",
              "380529 -0.054139    -0.375468        -0.851699       -0.650554  ...   \n",
              "181120 -0.809460    -0.375468         0.226218       -0.650554  ...   \n",
              "131469  2.837639    -0.375468        -0.081758        0.536978  ...   \n",
              "269036 -0.765989    -0.375468        -0.543722       -0.650554  ...   \n",
              "\n",
              "        purpose_major_purchase  purpose_medical  purpose_moving  \\\n",
              "313288                       0                0               0   \n",
              "380529                       0                0               0   \n",
              "181120                       0                0               0   \n",
              "131469                       0                0               0   \n",
              "269036                       0                0               0   \n",
              "\n",
              "        purpose_other  purpose_renewable_energy  purpose_small_business  \\\n",
              "313288              0                         0                       0   \n",
              "380529              0                         0                       0   \n",
              "181120              0                         0                       0   \n",
              "131469              1                         0                       0   \n",
              "269036              0                         0                       0   \n",
              "\n",
              "        purpose_vacation  purpose_wedding  application_type_Individual  \\\n",
              "313288                 0                0                            1   \n",
              "380529                 0                0                            1   \n",
              "181120                 0                0                            1   \n",
              "131469                 0                0                            0   \n",
              "269036                 0                0                            1   \n",
              "\n",
              "        application_type_Joint App  \n",
              "313288                           0  \n",
              "380529                           0  \n",
              "181120                           0  \n",
              "131469                           1  \n",
              "269036                           0  \n",
              "\n",
              "[5 rows x 44 columns]"
            ],
            "text/html": [
              "\n",
              "  <div id=\"df-19f6454a-f2cd-4b35-887a-f48fe74bf4ec\">\n",
              "    <div class=\"colab-df-container\">\n",
              "      <div>\n",
              "<style scoped>\n",
              "    .dataframe tbody tr th:only-of-type {\n",
              "        vertical-align: middle;\n",
              "    }\n",
              "\n",
              "    .dataframe tbody tr th {\n",
              "        vertical-align: top;\n",
              "    }\n",
              "\n",
              "    .dataframe thead th {\n",
              "        text-align: right;\n",
              "    }\n",
              "</style>\n",
              "<table border=\"1\" class=\"dataframe\">\n",
              "  <thead>\n",
              "    <tr style=\"text-align: right;\">\n",
              "      <th></th>\n",
              "      <th>funded_amnt</th>\n",
              "      <th>term</th>\n",
              "      <th>int_rate</th>\n",
              "      <th>installment</th>\n",
              "      <th>emp_length</th>\n",
              "      <th>annual_inc</th>\n",
              "      <th>dti</th>\n",
              "      <th>delinq_2yrs</th>\n",
              "      <th>fico_range_high</th>\n",
              "      <th>inq_last_6mths</th>\n",
              "      <th>...</th>\n",
              "      <th>purpose_major_purchase</th>\n",
              "      <th>purpose_medical</th>\n",
              "      <th>purpose_moving</th>\n",
              "      <th>purpose_other</th>\n",
              "      <th>purpose_renewable_energy</th>\n",
              "      <th>purpose_small_business</th>\n",
              "      <th>purpose_vacation</th>\n",
              "      <th>purpose_wedding</th>\n",
              "      <th>application_type_Individual</th>\n",
              "      <th>application_type_Joint App</th>\n",
              "    </tr>\n",
              "  </thead>\n",
              "  <tbody>\n",
              "    <tr>\n",
              "      <th>313288</th>\n",
              "      <td>-0.751005</td>\n",
              "      <td>0.0</td>\n",
              "      <td>-1.115302</td>\n",
              "      <td>-0.720179</td>\n",
              "      <td>-1.045343</td>\n",
              "      <td>-0.404548</td>\n",
              "      <td>-0.497913</td>\n",
              "      <td>-0.375468</td>\n",
              "      <td>0.072230</td>\n",
              "      <td>-0.650554</td>\n",
              "      <td>...</td>\n",
              "      <td>0</td>\n",
              "      <td>0</td>\n",
              "      <td>0</td>\n",
              "      <td>0</td>\n",
              "      <td>0</td>\n",
              "      <td>0</td>\n",
              "      <td>0</td>\n",
              "      <td>0</td>\n",
              "      <td>1</td>\n",
              "      <td>0</td>\n",
              "    </tr>\n",
              "    <tr>\n",
              "      <th>380529</th>\n",
              "      <td>-0.544804</td>\n",
              "      <td>0.0</td>\n",
              "      <td>0.546083</td>\n",
              "      <td>-0.358562</td>\n",
              "      <td>-0.511957</td>\n",
              "      <td>-0.379355</td>\n",
              "      <td>-0.054139</td>\n",
              "      <td>-0.375468</td>\n",
              "      <td>-0.851699</td>\n",
              "      <td>-0.650554</td>\n",
              "      <td>...</td>\n",
              "      <td>0</td>\n",
              "      <td>0</td>\n",
              "      <td>0</td>\n",
              "      <td>0</td>\n",
              "      <td>0</td>\n",
              "      <td>0</td>\n",
              "      <td>0</td>\n",
              "      <td>0</td>\n",
              "      <td>1</td>\n",
              "      <td>0</td>\n",
              "    </tr>\n",
              "    <tr>\n",
              "      <th>181120</th>\n",
              "      <td>0.097898</td>\n",
              "      <td>0.0</td>\n",
              "      <td>0.092622</td>\n",
              "      <td>-0.293573</td>\n",
              "      <td>0.821508</td>\n",
              "      <td>0.369987</td>\n",
              "      <td>-0.809460</td>\n",
              "      <td>-0.375468</td>\n",
              "      <td>0.226218</td>\n",
              "      <td>-0.650554</td>\n",
              "      <td>...</td>\n",
              "      <td>0</td>\n",
              "      <td>0</td>\n",
              "      <td>0</td>\n",
              "      <td>0</td>\n",
              "      <td>0</td>\n",
              "      <td>0</td>\n",
              "      <td>0</td>\n",
              "      <td>0</td>\n",
              "      <td>1</td>\n",
              "      <td>0</td>\n",
              "    </tr>\n",
              "    <tr>\n",
              "      <th>131469</th>\n",
              "      <td>-0.223453</td>\n",
              "      <td>0.0</td>\n",
              "      <td>0.950679</td>\n",
              "      <td>0.069593</td>\n",
              "      <td>-1.045343</td>\n",
              "      <td>-0.807636</td>\n",
              "      <td>2.837639</td>\n",
              "      <td>-0.375468</td>\n",
              "      <td>-0.081758</td>\n",
              "      <td>0.536978</td>\n",
              "      <td>...</td>\n",
              "      <td>0</td>\n",
              "      <td>0</td>\n",
              "      <td>0</td>\n",
              "      <td>1</td>\n",
              "      <td>0</td>\n",
              "      <td>0</td>\n",
              "      <td>0</td>\n",
              "      <td>0</td>\n",
              "      <td>0</td>\n",
              "      <td>1</td>\n",
              "    </tr>\n",
              "    <tr>\n",
              "      <th>269036</th>\n",
              "      <td>-0.009219</td>\n",
              "      <td>0.0</td>\n",
              "      <td>-1.021483</td>\n",
              "      <td>0.067648</td>\n",
              "      <td>-0.245264</td>\n",
              "      <td>-0.186628</td>\n",
              "      <td>-0.765989</td>\n",
              "      <td>-0.375468</td>\n",
              "      <td>-0.543722</td>\n",
              "      <td>-0.650554</td>\n",
              "      <td>...</td>\n",
              "      <td>0</td>\n",
              "      <td>0</td>\n",
              "      <td>0</td>\n",
              "      <td>0</td>\n",
              "      <td>0</td>\n",
              "      <td>0</td>\n",
              "      <td>0</td>\n",
              "      <td>0</td>\n",
              "      <td>1</td>\n",
              "      <td>0</td>\n",
              "    </tr>\n",
              "  </tbody>\n",
              "</table>\n",
              "<p>5 rows × 44 columns</p>\n",
              "</div>\n",
              "      <button class=\"colab-df-convert\" onclick=\"convertToInteractive('df-19f6454a-f2cd-4b35-887a-f48fe74bf4ec')\"\n",
              "              title=\"Convert this dataframe to an interactive table.\"\n",
              "              style=\"display:none;\">\n",
              "        \n",
              "  <svg xmlns=\"http://www.w3.org/2000/svg\" height=\"24px\"viewBox=\"0 0 24 24\"\n",
              "       width=\"24px\">\n",
              "    <path d=\"M0 0h24v24H0V0z\" fill=\"none\"/>\n",
              "    <path d=\"M18.56 5.44l.94 2.06.94-2.06 2.06-.94-2.06-.94-.94-2.06-.94 2.06-2.06.94zm-11 1L8.5 8.5l.94-2.06 2.06-.94-2.06-.94L8.5 2.5l-.94 2.06-2.06.94zm10 10l.94 2.06.94-2.06 2.06-.94-2.06-.94-.94-2.06-.94 2.06-2.06.94z\"/><path d=\"M17.41 7.96l-1.37-1.37c-.4-.4-.92-.59-1.43-.59-.52 0-1.04.2-1.43.59L10.3 9.45l-7.72 7.72c-.78.78-.78 2.05 0 2.83L4 21.41c.39.39.9.59 1.41.59.51 0 1.02-.2 1.41-.59l7.78-7.78 2.81-2.81c.8-.78.8-2.07 0-2.86zM5.41 20L4 18.59l7.72-7.72 1.47 1.35L5.41 20z\"/>\n",
              "  </svg>\n",
              "      </button>\n",
              "      \n",
              "  <style>\n",
              "    .colab-df-container {\n",
              "      display:flex;\n",
              "      flex-wrap:wrap;\n",
              "      gap: 12px;\n",
              "    }\n",
              "\n",
              "    .colab-df-convert {\n",
              "      background-color: #E8F0FE;\n",
              "      border: none;\n",
              "      border-radius: 50%;\n",
              "      cursor: pointer;\n",
              "      display: none;\n",
              "      fill: #1967D2;\n",
              "      height: 32px;\n",
              "      padding: 0 0 0 0;\n",
              "      width: 32px;\n",
              "    }\n",
              "\n",
              "    .colab-df-convert:hover {\n",
              "      background-color: #E2EBFA;\n",
              "      box-shadow: 0px 1px 2px rgba(60, 64, 67, 0.3), 0px 1px 3px 1px rgba(60, 64, 67, 0.15);\n",
              "      fill: #174EA6;\n",
              "    }\n",
              "\n",
              "    [theme=dark] .colab-df-convert {\n",
              "      background-color: #3B4455;\n",
              "      fill: #D2E3FC;\n",
              "    }\n",
              "\n",
              "    [theme=dark] .colab-df-convert:hover {\n",
              "      background-color: #434B5C;\n",
              "      box-shadow: 0px 1px 3px 1px rgba(0, 0, 0, 0.15);\n",
              "      filter: drop-shadow(0px 1px 2px rgba(0, 0, 0, 0.3));\n",
              "      fill: #FFFFFF;\n",
              "    }\n",
              "  </style>\n",
              "\n",
              "      <script>\n",
              "        const buttonEl =\n",
              "          document.querySelector('#df-19f6454a-f2cd-4b35-887a-f48fe74bf4ec button.colab-df-convert');\n",
              "        buttonEl.style.display =\n",
              "          google.colab.kernel.accessAllowed ? 'block' : 'none';\n",
              "\n",
              "        async function convertToInteractive(key) {\n",
              "          const element = document.querySelector('#df-19f6454a-f2cd-4b35-887a-f48fe74bf4ec');\n",
              "          const dataTable =\n",
              "            await google.colab.kernel.invokeFunction('convertToInteractive',\n",
              "                                                     [key], {});\n",
              "          if (!dataTable) return;\n",
              "\n",
              "          const docLinkHtml = 'Like what you see? Visit the ' +\n",
              "            '<a target=\"_blank\" href=https://colab.research.google.com/notebooks/data_table.ipynb>data table notebook</a>'\n",
              "            + ' to learn more about interactive tables.';\n",
              "          element.innerHTML = '';\n",
              "          dataTable['output_type'] = 'display_data';\n",
              "          await google.colab.output.renderOutput(dataTable, element);\n",
              "          const docLink = document.createElement('div');\n",
              "          docLink.innerHTML = docLinkHtml;\n",
              "          element.appendChild(docLink);\n",
              "        }\n",
              "      </script>\n",
              "    </div>\n",
              "  </div>\n",
              "  "
            ]
          },
          "metadata": {},
          "execution_count": 107
        }
      ]
    },
    {
      "cell_type": "code",
      "source": [
        "100*(y_train.value_counts()/ len(y_train))"
      ],
      "metadata": {
        "colab": {
          "base_uri": "https://localhost:8080/"
        },
        "id": "HQP3hyn4PYDv",
        "outputId": "dda2769e-3d9d-4c68-826b-677a24903549"
      },
      "execution_count": null,
      "outputs": [
        {
          "output_type": "execute_result",
          "data": {
            "text/plain": [
              "1    87.37147\n",
              "0    12.62853\n",
              "Name: loan_status, dtype: float64"
            ]
          },
          "metadata": {},
          "execution_count": 108
        }
      ]
    },
    {
      "cell_type": "markdown",
      "source": [
        "its an imbalance data ,we need to use SMOTe method to balance the data. i am unable to install SMOTE so i am skipping this step and proceeding with the model"
      ],
      "metadata": {
        "id": "qU8hfRehPcJK"
      }
    },
    {
      "cell_type": "code",
      "source": [
        "from sklearn.linear_model import LogisticRegression\n",
        "logreg = LogisticRegression(solver='lbfgs', max_iter=1000)"
      ],
      "metadata": {
        "id": "2uQFn-u_PdQe"
      },
      "execution_count": null,
      "outputs": []
    },
    {
      "cell_type": "code",
      "source": [
        "from sklearn.feature_selection import RFE\n",
        "rfe = RFE(logreg)             \n",
        "rfe = rfe.fit(x_train, y_train)\n"
      ],
      "metadata": {
        "id": "RPZaifJoPmfB"
      },
      "execution_count": null,
      "outputs": []
    },
    {
      "cell_type": "code",
      "source": [
        "print(rfe.support_)\n",
        "print(rfe.ranking_)\n",
        "x_train.columns[rfe.support_]"
      ],
      "metadata": {
        "colab": {
          "base_uri": "https://localhost:8080/"
        },
        "id": "8QLebT46-iQm",
        "outputId": "75503755-1afe-49f0-bf60-57af238e1ed3"
      },
      "execution_count": null,
      "outputs": [
        {
          "output_type": "stream",
          "name": "stdout",
          "text": [
            "[ True False  True  True False  True False False  True  True False False\n",
            " False False  True False  True False  True False False False False False\n",
            " False  True False  True  True  True  True False  True  True  True False\n",
            " False  True  True  True False False  True  True]\n",
            "[ 1 22  1  1 14  1  4  7  1  1 20  8 21  5  1  3  1 10  1 19  2 13  9 18\n",
            " 12  1 11  1  1  1  1 23  1  1  1 15 16  1  1  1  6 17  1  1]\n"
          ]
        },
        {
          "output_type": "execute_result",
          "data": {
            "text/plain": [
              "Index(['funded_amnt', 'int_rate', 'installment', 'annual_inc',\n",
              "       'fico_range_high', 'inq_last_6mths', 'open_il_24m', 'open_rv_24m',\n",
              "       'bc_open_to_buy', 'home_ownership_MORTGAGE', 'home_ownership_RENT',\n",
              "       'purpose_car', 'purpose_credit_card', 'purpose_debt_consolidation',\n",
              "       'purpose_home_improvement', 'purpose_house', 'purpose_major_purchase',\n",
              "       'purpose_other', 'purpose_renewable_energy', 'purpose_small_business',\n",
              "       'application_type_Individual', 'application_type_Joint App'],\n",
              "      dtype='object')"
            ]
          },
          "metadata": {},
          "execution_count": 116
        }
      ]
    },
    {
      "cell_type": "code",
      "source": [
        "list(zip(x_train.columns, rfe.support_, rfe.ranking_))\n"
      ],
      "metadata": {
        "colab": {
          "base_uri": "https://localhost:8080/"
        },
        "id": "wJYc_32E_tEc",
        "outputId": "0ad9de4d-b2a0-4253-e536-902a4d437187"
      },
      "execution_count": null,
      "outputs": [
        {
          "output_type": "execute_result",
          "data": {
            "text/plain": [
              "[('funded_amnt', True, 1),\n",
              " ('term', False, 22),\n",
              " ('int_rate', True, 1),\n",
              " ('installment', True, 1),\n",
              " ('emp_length', False, 14),\n",
              " ('annual_inc', True, 1),\n",
              " ('dti', False, 4),\n",
              " ('delinq_2yrs', False, 7),\n",
              " ('fico_range_high', True, 1),\n",
              " ('inq_last_6mths', True, 1),\n",
              " ('open_acc', False, 20),\n",
              " ('revol_bal', False, 8),\n",
              " ('total_acc', False, 21),\n",
              " ('open_act_il', False, 5),\n",
              " ('open_il_24m', True, 1),\n",
              " ('il_util', False, 3),\n",
              " ('open_rv_24m', True, 1),\n",
              " ('all_util', False, 10),\n",
              " ('bc_open_to_buy', True, 1),\n",
              " ('bc_util', False, 19),\n",
              " ('mort_acc', False, 2),\n",
              " ('num_tl_90g_dpd_24m', False, 13),\n",
              " ('pct_tl_nvr_dlq', False, 9),\n",
              " ('pub_rec_bankruptcies', False, 18),\n",
              " ('home_ownership_ANY', False, 12),\n",
              " ('home_ownership_MORTGAGE', True, 1),\n",
              " ('home_ownership_OWN', False, 11),\n",
              " ('home_ownership_RENT', True, 1),\n",
              " ('purpose_car', True, 1),\n",
              " ('purpose_credit_card', True, 1),\n",
              " ('purpose_debt_consolidation', True, 1),\n",
              " ('purpose_educational', False, 23),\n",
              " ('purpose_home_improvement', True, 1),\n",
              " ('purpose_house', True, 1),\n",
              " ('purpose_major_purchase', True, 1),\n",
              " ('purpose_medical', False, 15),\n",
              " ('purpose_moving', False, 16),\n",
              " ('purpose_other', True, 1),\n",
              " ('purpose_renewable_energy', True, 1),\n",
              " ('purpose_small_business', True, 1),\n",
              " ('purpose_vacation', False, 6),\n",
              " ('purpose_wedding', False, 17),\n",
              " ('application_type_Individual', True, 1),\n",
              " ('application_type_Joint App', True, 1)]"
            ]
          },
          "metadata": {},
          "execution_count": 117
        }
      ]
    },
    {
      "cell_type": "code",
      "source": [
        "from sklearn.linear_model import LogisticRegression\n",
        "classifier = LogisticRegression(random_state=0, penalty= 'l2')\n",
        "classifier.fit(x_train[x_train.columns[rfe.support_]], y_train)"
      ],
      "metadata": {
        "colab": {
          "base_uri": "https://localhost:8080/"
        },
        "id": "iOCs2xSd_wts",
        "outputId": "8591e150-9465-4e44-fc2a-866f1ceaa106"
      },
      "execution_count": null,
      "outputs": [
        {
          "output_type": "execute_result",
          "data": {
            "text/plain": [
              "LogisticRegression(random_state=0)"
            ]
          },
          "metadata": {},
          "execution_count": 118
        }
      ]
    },
    {
      "cell_type": "code",
      "source": [
        "from sklearn import metrics\n",
        "from sklearn.metrics import precision_score, recall_score\n",
        "    #Predicting Test Set\n",
        "y_pred = classifier.predict(x_test[x_train.columns[rfe.support_]])\n",
        "acc = metrics.accuracy_score(y_test, y_pred)\n",
        "prec = precision_score(y_test, y_pred)\n",
        "rec = recall_score(y_test, y_pred)"
      ],
      "metadata": {
        "id": "N6nozEPYAJA4"
      },
      "execution_count": null,
      "outputs": []
    },
    {
      "cell_type": "code",
      "source": [
        "print(acc,prec,rec)"
      ],
      "metadata": {
        "id": "5Rjagij7BLdl",
        "outputId": "cd48f850-77f6-4677-8858-f890430a4944",
        "colab": {
          "base_uri": "https://localhost:8080/"
        }
      },
      "execution_count": null,
      "outputs": [
        {
          "output_type": "stream",
          "name": "stdout",
          "text": [
            "0.8739039744787684 0.8739605259431958 0.9999244035983887\n"
          ]
        }
      ]
    }
  ]
}